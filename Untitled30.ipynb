{
 "cells": [
  {
   "cell_type": "code",
   "execution_count": 1,
   "id": "3944801c-1bc9-4037-a085-f8e5c0ab9452",
   "metadata": {},
   "outputs": [],
   "source": [
    "import tensorflow as tf\n"
   ]
  },
  {
   "cell_type": "code",
   "execution_count": 3,
   "id": "d278056e-a236-4dd4-a0d5-849817352895",
   "metadata": {},
   "outputs": [
    {
     "name": "stdout",
     "output_type": "stream",
     "text": [
      "tf.Tensor(\n",
      "[[1. 0. 0. 0. 0. 0. 0. 0. 0. 0.]\n",
      " [0. 1. 0. 0. 0. 0. 0. 0. 0. 0.]\n",
      " [0. 0. 1. 0. 0. 0. 0. 0. 0. 0.]\n",
      " [0. 0. 0. 1. 0. 0. 0. 0. 0. 0.]\n",
      " [0. 0. 0. 0. 1. 0. 0. 0. 0. 0.]], shape=(5, 10), dtype=float32)\n"
     ]
    }
   ],
   "source": [
    "y = tf.constant([0, 1, 2, 3, 4])\n",
    "y = tf.one_hot(y, depth=10)\n",
    "print(y)"
   ]
  },
  {
   "cell_type": "code",
   "execution_count": 32,
   "id": "6a47e374-4f06-4ead-a864-a7d83aa6d57c",
   "metadata": {},
   "outputs": [
    {
     "ename": "NotFoundError",
     "evalue": "Could not find valid device for node.\nNode:{{node OneHot}}\nAll kernels registered for op OneHot :\n  device='CPU'; TI in [DT_UINT8]; T in [DT_INT64]\n  device='CPU'; TI in [DT_INT32]; T in [DT_INT64]\n  device='CPU'; TI in [DT_INT64]; T in [DT_INT64]\n  device='CPU'; TI in [DT_UINT8]; T in [DT_INT32]\n  device='CPU'; TI in [DT_INT32]; T in [DT_INT32]\n  device='CPU'; TI in [DT_INT64]; T in [DT_INT32]\n  device='CPU'; TI in [DT_UINT8]; T in [DT_UINT16]\n  device='CPU'; TI in [DT_INT32]; T in [DT_UINT16]\n  device='CPU'; TI in [DT_INT64]; T in [DT_UINT16]\n  device='CPU'; TI in [DT_UINT8]; T in [DT_INT16]\n  device='CPU'; TI in [DT_INT32]; T in [DT_INT16]\n  device='CPU'; TI in [DT_INT64]; T in [DT_INT16]\n  device='CPU'; TI in [DT_UINT8]; T in [DT_UINT8]\n  device='CPU'; TI in [DT_INT32]; T in [DT_UINT8]\n  device='CPU'; TI in [DT_INT64]; T in [DT_UINT8]\n  device='CPU'; TI in [DT_UINT8]; T in [DT_INT8]\n  device='CPU'; TI in [DT_INT32]; T in [DT_INT8]\n  device='CPU'; TI in [DT_INT64]; T in [DT_INT8]\n  device='CPU'; TI in [DT_UINT8]; T in [DT_HALF]\n  device='CPU'; TI in [DT_INT32]; T in [DT_HALF]\n  device='CPU'; TI in [DT_INT64]; T in [DT_HALF]\n  device='CPU'; TI in [DT_UINT8]; T in [DT_BFLOAT16]\n  device='CPU'; TI in [DT_INT32]; T in [DT_BFLOAT16]\n  device='CPU'; TI in [DT_INT64]; T in [DT_BFLOAT16]\n  device='CPU'; TI in [DT_UINT8]; T in [DT_FLOAT]\n  device='CPU'; TI in [DT_INT32]; T in [DT_FLOAT]\n  device='CPU'; TI in [DT_INT64]; T in [DT_FLOAT]\n  device='CPU'; TI in [DT_UINT8]; T in [DT_DOUBLE]\n  device='CPU'; TI in [DT_INT32]; T in [DT_DOUBLE]\n  device='CPU'; TI in [DT_INT64]; T in [DT_DOUBLE]\n  device='CPU'; TI in [DT_UINT8]; T in [DT_COMPLEX64]\n  device='CPU'; TI in [DT_INT32]; T in [DT_COMPLEX64]\n  device='CPU'; TI in [DT_INT64]; T in [DT_COMPLEX64]\n  device='CPU'; TI in [DT_UINT8]; T in [DT_COMPLEX128]\n  device='CPU'; TI in [DT_INT32]; T in [DT_COMPLEX128]\n  device='CPU'; TI in [DT_INT64]; T in [DT_COMPLEX128]\n  device='CPU'; TI in [DT_UINT8]; T in [DT_BOOL]\n  device='CPU'; TI in [DT_INT32]; T in [DT_BOOL]\n  device='CPU'; TI in [DT_INT64]; T in [DT_BOOL]\n  device='CPU'; TI in [DT_UINT8]; T in [DT_STRING]\n  device='CPU'; TI in [DT_INT32]; T in [DT_STRING]\n  device='CPU'; TI in [DT_INT64]; T in [DT_STRING]\n  device='CPU'; TI in [DT_UINT8]; T in [DT_RESOURCE]\n  device='CPU'; TI in [DT_INT32]; T in [DT_RESOURCE]\n  device='CPU'; TI in [DT_INT64]; T in [DT_RESOURCE]\n  device='CPU'; TI in [DT_UINT8]; T in [DT_VARIANT]\n  device='CPU'; TI in [DT_INT32]; T in [DT_VARIANT]\n  device='CPU'; TI in [DT_INT64]; T in [DT_VARIANT]\n [Op:OneHot] name: one_hot/",
     "output_type": "error",
     "traceback": [
      "\u001b[1;31m---------------------------------------------------------------------------\u001b[0m",
      "\u001b[1;31mNotFoundError\u001b[0m                             Traceback (most recent call last)",
      "\u001b[1;32m~\\AppData\\Local\\Temp\\ipykernel_19916\\3371381854.py\u001b[0m in \u001b[0;36m<module>\u001b[1;34m\u001b[0m\n\u001b[0;32m      9\u001b[0m     \u001b[0mx\u001b[0m \u001b[1;33m=\u001b[0m \u001b[0mtf\u001b[0m\u001b[1;33m.\u001b[0m\u001b[0mreshape\u001b[0m\u001b[1;33m(\u001b[0m\u001b[0mx\u001b[0m\u001b[1;33m,\u001b[0m \u001b[1;33m(\u001b[0m\u001b[1;33m-\u001b[0m\u001b[1;36m1\u001b[0m\u001b[1;33m,\u001b[0m\u001b[1;36m28\u001b[0m\u001b[1;33m*\u001b[0m\u001b[1;36m28\u001b[0m\u001b[1;33m)\u001b[0m\u001b[1;33m)\u001b[0m\u001b[1;33m\u001b[0m\u001b[0m\n\u001b[0;32m     10\u001b[0m     \u001b[0mout\u001b[0m \u001b[1;33m=\u001b[0m \u001b[0mmodel\u001b[0m\u001b[1;33m(\u001b[0m\u001b[0mx\u001b[0m\u001b[1;33m)\u001b[0m\u001b[1;33m\u001b[0m\u001b[0m\n\u001b[1;32m---> 11\u001b[1;33m     \u001b[0my_onehot\u001b[0m \u001b[1;33m=\u001b[0m \u001b[0mtf\u001b[0m\u001b[1;33m.\u001b[0m\u001b[0mone_hot\u001b[0m\u001b[1;33m(\u001b[0m\u001b[0my\u001b[0m\u001b[1;33m,\u001b[0m \u001b[0mdepth\u001b[0m\u001b[1;33m=\u001b[0m\u001b[1;36m10\u001b[0m\u001b[1;33m)\u001b[0m\u001b[1;33m\u001b[0m\u001b[0m\n\u001b[0m\u001b[0;32m     12\u001b[0m     \u001b[0mloss\u001b[0m \u001b[1;33m=\u001b[0m \u001b[0mtf\u001b[0m\u001b[1;33m.\u001b[0m\u001b[0msquare\u001b[0m\u001b[1;33m(\u001b[0m\u001b[0mout\u001b[0m\u001b[1;33m-\u001b[0m\u001b[0my_onehot\u001b[0m\u001b[1;33m)\u001b[0m\u001b[1;33m\u001b[0m\u001b[0m\n\u001b[0;32m     13\u001b[0m     \u001b[0mloss\u001b[0m \u001b[1;33m=\u001b[0m \u001b[0mtf\u001b[0m\u001b[1;33m.\u001b[0m\u001b[0mreduce_sum\u001b[0m\u001b[1;33m(\u001b[0m\u001b[0mloss\u001b[0m\u001b[1;33m)\u001b[0m\u001b[1;33m/\u001b[0m\u001b[0mx\u001b[0m\u001b[1;33m.\u001b[0m\u001b[0mshape\u001b[0m\u001b[1;33m[\u001b[0m\u001b[1;36m0\u001b[0m\u001b[1;33m]\u001b[0m\u001b[1;33m\u001b[0m\u001b[0m\n",
      "\u001b[1;32mD:\\Anaconda3\\envs\\tf2\\lib\\site-packages\\tensorflow_core\\python\\ops\\array_ops.py\u001b[0m in \u001b[0;36mone_hot\u001b[1;34m(indices, depth, on_value, off_value, axis, dtype, name)\u001b[0m\n\u001b[0;32m   3512\u001b[0m \u001b[1;33m\u001b[0m\u001b[0m\n\u001b[0;32m   3513\u001b[0m     return gen_array_ops.one_hot(indices, depth, on_value, off_value, axis,\n\u001b[1;32m-> 3514\u001b[1;33m                                  name)\n\u001b[0m\u001b[0;32m   3515\u001b[0m \u001b[1;33m\u001b[0m\u001b[0m\n\u001b[0;32m   3516\u001b[0m \u001b[1;33m\u001b[0m\u001b[0m\n",
      "\u001b[1;32mD:\\Anaconda3\\envs\\tf2\\lib\\site-packages\\tensorflow_core\\python\\ops\\gen_array_ops.py\u001b[0m in \u001b[0;36mone_hot\u001b[1;34m(indices, depth, on_value, off_value, axis, name)\u001b[0m\n\u001b[0;32m   6128\u001b[0m       \u001b[1;32melse\u001b[0m\u001b[1;33m:\u001b[0m\u001b[1;33m\u001b[0m\u001b[0m\n\u001b[0;32m   6129\u001b[0m         \u001b[0mmessage\u001b[0m \u001b[1;33m=\u001b[0m \u001b[0me\u001b[0m\u001b[1;33m.\u001b[0m\u001b[0mmessage\u001b[0m\u001b[1;33m\u001b[0m\u001b[0m\n\u001b[1;32m-> 6130\u001b[1;33m       \u001b[0m_six\u001b[0m\u001b[1;33m.\u001b[0m\u001b[0mraise_from\u001b[0m\u001b[1;33m(\u001b[0m\u001b[0m_core\u001b[0m\u001b[1;33m.\u001b[0m\u001b[0m_status_to_exception\u001b[0m\u001b[1;33m(\u001b[0m\u001b[0me\u001b[0m\u001b[1;33m.\u001b[0m\u001b[0mcode\u001b[0m\u001b[1;33m,\u001b[0m \u001b[0mmessage\u001b[0m\u001b[1;33m)\u001b[0m\u001b[1;33m,\u001b[0m \u001b[1;32mNone\u001b[0m\u001b[1;33m)\u001b[0m\u001b[1;33m\u001b[0m\u001b[0m\n\u001b[0m\u001b[0;32m   6131\u001b[0m   \u001b[1;31m# Add nodes to the TensorFlow graph.\u001b[0m\u001b[1;33m\u001b[0m\u001b[1;33m\u001b[0m\u001b[0m\n\u001b[0;32m   6132\u001b[0m   \u001b[1;32mif\u001b[0m \u001b[0maxis\u001b[0m \u001b[1;32mis\u001b[0m \u001b[1;32mNone\u001b[0m\u001b[1;33m:\u001b[0m\u001b[1;33m\u001b[0m\u001b[0m\n",
      "\u001b[1;32mD:\\Anaconda3\\envs\\tf2\\lib\\site-packages\\six.py\u001b[0m in \u001b[0;36mraise_from\u001b[1;34m(value, from_value)\u001b[0m\n",
      "\u001b[1;31mNotFoundError\u001b[0m: Could not find valid device for node.\nNode:{{node OneHot}}\nAll kernels registered for op OneHot :\n  device='CPU'; TI in [DT_UINT8]; T in [DT_INT64]\n  device='CPU'; TI in [DT_INT32]; T in [DT_INT64]\n  device='CPU'; TI in [DT_INT64]; T in [DT_INT64]\n  device='CPU'; TI in [DT_UINT8]; T in [DT_INT32]\n  device='CPU'; TI in [DT_INT32]; T in [DT_INT32]\n  device='CPU'; TI in [DT_INT64]; T in [DT_INT32]\n  device='CPU'; TI in [DT_UINT8]; T in [DT_UINT16]\n  device='CPU'; TI in [DT_INT32]; T in [DT_UINT16]\n  device='CPU'; TI in [DT_INT64]; T in [DT_UINT16]\n  device='CPU'; TI in [DT_UINT8]; T in [DT_INT16]\n  device='CPU'; TI in [DT_INT32]; T in [DT_INT16]\n  device='CPU'; TI in [DT_INT64]; T in [DT_INT16]\n  device='CPU'; TI in [DT_UINT8]; T in [DT_UINT8]\n  device='CPU'; TI in [DT_INT32]; T in [DT_UINT8]\n  device='CPU'; TI in [DT_INT64]; T in [DT_UINT8]\n  device='CPU'; TI in [DT_UINT8]; T in [DT_INT8]\n  device='CPU'; TI in [DT_INT32]; T in [DT_INT8]\n  device='CPU'; TI in [DT_INT64]; T in [DT_INT8]\n  device='CPU'; TI in [DT_UINT8]; T in [DT_HALF]\n  device='CPU'; TI in [DT_INT32]; T in [DT_HALF]\n  device='CPU'; TI in [DT_INT64]; T in [DT_HALF]\n  device='CPU'; TI in [DT_UINT8]; T in [DT_BFLOAT16]\n  device='CPU'; TI in [DT_INT32]; T in [DT_BFLOAT16]\n  device='CPU'; TI in [DT_INT64]; T in [DT_BFLOAT16]\n  device='CPU'; TI in [DT_UINT8]; T in [DT_FLOAT]\n  device='CPU'; TI in [DT_INT32]; T in [DT_FLOAT]\n  device='CPU'; TI in [DT_INT64]; T in [DT_FLOAT]\n  device='CPU'; TI in [DT_UINT8]; T in [DT_DOUBLE]\n  device='CPU'; TI in [DT_INT32]; T in [DT_DOUBLE]\n  device='CPU'; TI in [DT_INT64]; T in [DT_DOUBLE]\n  device='CPU'; TI in [DT_UINT8]; T in [DT_COMPLEX64]\n  device='CPU'; TI in [DT_INT32]; T in [DT_COMPLEX64]\n  device='CPU'; TI in [DT_INT64]; T in [DT_COMPLEX64]\n  device='CPU'; TI in [DT_UINT8]; T in [DT_COMPLEX128]\n  device='CPU'; TI in [DT_INT32]; T in [DT_COMPLEX128]\n  device='CPU'; TI in [DT_INT64]; T in [DT_COMPLEX128]\n  device='CPU'; TI in [DT_UINT8]; T in [DT_BOOL]\n  device='CPU'; TI in [DT_INT32]; T in [DT_BOOL]\n  device='CPU'; TI in [DT_INT64]; T in [DT_BOOL]\n  device='CPU'; TI in [DT_UINT8]; T in [DT_STRING]\n  device='CPU'; TI in [DT_INT32]; T in [DT_STRING]\n  device='CPU'; TI in [DT_INT64]; T in [DT_STRING]\n  device='CPU'; TI in [DT_UINT8]; T in [DT_RESOURCE]\n  device='CPU'; TI in [DT_INT32]; T in [DT_RESOURCE]\n  device='CPU'; TI in [DT_INT64]; T in [DT_RESOURCE]\n  device='CPU'; TI in [DT_UINT8]; T in [DT_VARIANT]\n  device='CPU'; TI in [DT_INT32]; T in [DT_VARIANT]\n  device='CPU'; TI in [DT_INT64]; T in [DT_VARIANT]\n [Op:OneHot] name: one_hot/"
     ]
    }
   ],
   "source": [
    "from tensorflow import keras\n",
    "from tensorflow.keras import layers, optimizers\n",
    "model = keras.Sequential([\n",
    "    layers.Dense(256, activation='relu'),\n",
    "    layers.Dense(128, activation='relu'),\n",
    "    layers.Dense(10)])\n",
    "with tf.GradientTape() as tape:\n",
    "    x = tf.random.normal([1,28,28])\n",
    "    x = tf.reshape(x, (-1,28*28))\n",
    "    out = model(x)\n",
    "    y_onehot = tf.one_hot(y, depth=10)\n",
    "    loss = tf.square(out-y_onehot)\n",
    "    loss = tf.reduce_sum(loss)/x.shape[0]\n",
    "    grads = tape.gradient(loss, model.trainable_variables)\n",
    "    optimizers.apply_gradient(zip(grads, model.trainable_variables))"
   ]
  },
  {
   "cell_type": "code",
   "execution_count": 10,
   "id": "11ef87f3-14f6-4ede-883a-b5eeebdb95e6",
   "metadata": {},
   "outputs": [
    {
     "data": {
      "text/plain": [
       "<tf.Tensor: id=6, shape=(), dtype=float32, numpy=1.2>"
      ]
     },
     "execution_count": 10,
     "metadata": {},
     "output_type": "execute_result"
    }
   ],
   "source": [
    "a = tf.constant(1.2)\n",
    "a"
   ]
  },
  {
   "cell_type": "code",
   "execution_count": 24,
   "id": "ea270fa7-063a-4f9e-8116-21f90e3d122b",
   "metadata": {},
   "outputs": [
    {
     "data": {
      "text/plain": [
       "<tf.Tensor: id=150, shape=(), dtype=float32, numpy=0.36489767>"
      ]
     },
     "execution_count": 24,
     "metadata": {},
     "output_type": "execute_result"
    }
   ],
   "source": [
    "out = tf.random.uniform([4,10])\n",
    "y = tf.constant([2,3,2,0])\n",
    "y = tf.one_hot(y, depth=10)\n",
    "loss = tf.keras.losses.mse(y, out)\n",
    "loss = tf.reduce_mean(loss)\n",
    "loss\n"
   ]
  },
  {
   "cell_type": "code",
   "execution_count": 18,
   "id": "0b4c8baa-4874-4370-b0a7-408d002cf4c4",
   "metadata": {},
   "outputs": [],
   "source": [
    "import matplotlib"
   ]
  },
  {
   "cell_type": "code",
   "execution_count": 23,
   "id": "0aeb33d4-67d8-4794-9b2a-9efd0b67ffb8",
   "metadata": {},
   "outputs": [
    {
     "data": {
      "text/plain": [
       "[<matplotlib.lines.Line2D at 0x10f9ee9a3c8>]"
      ]
     },
     "execution_count": 23,
     "metadata": {},
     "output_type": "execute_result"
    },
    {
     "data": {
      "image/png": "[encoded data removed]",
      "text/plain": [
       "<Figure size 432x288 with 1 Axes>"
      ]
     },
     "metadata": {
      "needs_background": "light"
     },
     "output_type": "display_data"
    }
   ],
   "source": [
    "import matplotlib.pyplot as plt\n",
    "plt.plot(loss, linewidth=5)"
   ]
  },
  {
   "cell_type": "code",
   "execution_count": 25,
   "id": "b23ddec1-b1dd-4d69-9d96-c67842af1262",
   "metadata": {},
   "outputs": [],
   "source": [
    "from tensorflow.keras import layers"
   ]
  },
  {
   "cell_type": "code",
   "execution_count": 28,
   "id": "473125b9-f5c7-4daf-abba-733502414d30",
   "metadata": {},
   "outputs": [
    {
     "data": {
      "text/plain": [
       "<tf.Variable 'kernel:0' shape=(2, 3) dtype=float32, numpy=\n",
       "array([[ 0.7424164 , -0.08353746, -0.28282505],\n",
       "       [ 0.0043875 ,  0.664495  , -0.18348241]], dtype=float32)>"
      ]
     },
     "execution_count": 28,
     "metadata": {},
     "output_type": "execute_result"
    }
   ],
   "source": [
    "fc = layers.Dense(3)\n",
    "fc.build(input_shape=[4,2])\n",
    "fc.kernel"
   ]
  },
  {
   "cell_type": "code",
   "execution_count": 33,
   "id": "f9d48cdf-cd86-4493-add2-476cddb31391",
   "metadata": {},
   "outputs": [
    {
     "data": {
      "text/plain": [
       "TensorShape([4, 30, 30, 16])"
      ]
     },
     "execution_count": 33,
     "metadata": {},
     "output_type": "execute_result"
    }
   ],
   "source": [
    "x = tf.random.normal([4, 32, 32, 3])\n",
    "layer = layers.Conv2D(16, kernel_size=3)\n",
    "out = layer(x)\n",
    "out.shape"
   ]
  },
  {
   "cell_type": "code",
   "execution_count": 34,
   "id": "58fe6c7c-089e-432f-8b07-309f8921222a",
   "metadata": {},
   "outputs": [
    {
     "data": {
      "text/plain": [
       "<tf.Tensor: id=626, shape=(4, 3, 28, 16), dtype=float32, numpy=\n",
       "array([[[[-5.7335401e-01, -1.0752973e+01, -9.0733309e+00, ...,\n",
       "          -3.7364802e+00, -1.4437190e+00, -8.2585543e-01],\n",
       "         [-2.7816799e+00,  2.6187110e+00,  1.1096846e+01, ...,\n",
       "           3.4917185e+00,  1.6682013e+00,  1.8834999e+00],\n",
       "         [-4.9128637e+00, -9.2129240e+00,  2.1545496e+00, ...,\n",
       "           1.1200589e+00,  4.2288270e+00,  4.1734877e+00],\n",
       "         ...,\n",
       "         [ 8.6002235e+00,  6.8841243e-01,  1.1078668e+00, ...,\n",
       "           4.0034616e-01, -9.2539364e-01, -3.3237083e+00],\n",
       "         [ 3.6052334e-01, -2.3106909e+00, -3.3948109e+00, ...,\n",
       "          -2.0193392e-01, -2.5750878e+00,  2.4854469e+00],\n",
       "         [-1.6311172e+00, -9.3234692e+00,  2.8789089e+00, ...,\n",
       "          -3.6776917e+00,  3.2070336e+00,  7.7950649e+00]],\n",
       "\n",
       "        [[ 2.1599407e+00, -4.8506165e+00,  1.1977481e+00, ...,\n",
       "          -2.1187577e+00, -3.9721799e+00, -5.4973397e+00],\n",
       "         [ 4.1044188e+00, -7.8421364e+00, -2.5303454e+00, ...,\n",
       "          -1.6464832e+00,  2.0562115e+00, -5.5686870e+00],\n",
       "         [-7.5105915e+00, -1.3426236e+01, -7.1725411e+00, ...,\n",
       "          -3.1805501e+00,  6.4876461e+00,  3.9796062e+00],\n",
       "         ...,\n",
       "         [ 6.6545906e+00,  1.3993282e+01,  5.5120769e+00, ...,\n",
       "          -3.2654219e+00, -4.3343583e-01,  1.0474980e+01],\n",
       "         [-2.4890714e+00,  7.7516155e+00, -5.6156287e+00, ...,\n",
       "           4.6743643e-01,  3.9629576e+00,  5.5676575e+00],\n",
       "         [-1.6091189e+00, -9.7914915e+00, -2.2883255e+00, ...,\n",
       "          -2.1129043e+00, -1.6058556e+00,  5.9126482e+00]],\n",
       "\n",
       "        [[ 2.3759108e+00, -1.1378513e+01,  6.4787540e+00, ...,\n",
       "           6.9425516e+00, -1.1250464e+01, -1.5349258e+01],\n",
       "         [-3.9574664e+00,  1.7871704e+00,  7.0739031e-01, ...,\n",
       "           3.8735974e+00,  7.1404862e+00,  9.5948753e+00],\n",
       "         [ 2.5810473e+00,  8.4364204e+00, -4.3813848e+00, ...,\n",
       "          -6.3736069e-01,  1.0936527e+00,  4.6768947e+00],\n",
       "         ...,\n",
       "         [-9.7584736e-01,  7.4626722e+00, -1.0165822e+01, ...,\n",
       "           2.2888906e+00,  1.2741115e+01, -3.6703942e+00],\n",
       "         [-6.9793844e+00,  4.0946255e+00,  9.7559700e+00, ...,\n",
       "           5.7940559e+00, -5.5235147e+00, -6.1120480e-01],\n",
       "         [ 4.3512406e+00, -5.4604745e+00,  5.0962639e+00, ...,\n",
       "          -2.3604853e+00, -8.0338329e-01, -1.7231923e+00]]],\n",
       "\n",
       "\n",
       "       [[[-1.1395469e+01, -3.2111368e+00,  5.9332056e+00, ...,\n",
       "           1.8830885e+00,  3.4922583e+00,  5.8001423e+00],\n",
       "         [-1.6075541e+00,  2.5157332e-01,  1.5090704e+00, ...,\n",
       "          -2.0654184e-01,  1.0258377e+01,  2.0935514e+00],\n",
       "         [ 1.9237869e+00, -1.5921830e+00, -7.6006794e+00, ...,\n",
       "          -3.4866087e+00,  7.5429783e+00,  5.3750215e+00],\n",
       "         ...,\n",
       "         [ 3.9896252e+00,  3.4009356e+00, -9.4578819e+00, ...,\n",
       "           1.3998268e+00,  2.6296926e+00, -3.8085597e+00],\n",
       "         [ 1.1798332e+01, -1.0765509e+01,  4.2827325e+00, ...,\n",
       "          -9.3894863e+00, -5.2776899e+00, -2.1132495e+00],\n",
       "         [-3.9341335e+00,  1.5719340e+00, -5.4592714e+00, ...,\n",
       "           3.1023736e+00,  6.1736073e+00, -5.0033207e+00]],\n",
       "\n",
       "        [[ 6.0876465e+00,  1.0147890e+01, -3.4726360e+00, ...,\n",
       "          -3.9593916e+00, -2.9001203e+00,  1.6652411e+00],\n",
       "         [-2.3194029e+00,  1.7349248e+00,  3.3047810e+00, ...,\n",
       "           5.4770832e+00,  2.6650574e+00,  1.1774188e+01],\n",
       "         [ 3.6835773e+00,  5.8677073e+00,  4.0532002e+00, ...,\n",
       "          -1.4397295e+00,  1.4955333e+01,  4.6264377e+00],\n",
       "         ...,\n",
       "         [ 1.2076735e+00, -4.3606305e+00, -3.2042809e+00, ...,\n",
       "          -1.1404927e+00,  4.8320193e+00,  7.8605437e-01],\n",
       "         [ 9.2910852e+00, -6.0487471e+00, -7.0762658e-01, ...,\n",
       "           5.4362530e-01, -6.3590331e+00, -1.8971369e+00],\n",
       "         [ 2.6715853e+00,  4.5297775e+00, -1.6426897e+00, ...,\n",
       "           1.6299362e+00,  1.7215958e+01, -4.7590194e+00]],\n",
       "\n",
       "        [[ 3.8152084e+00,  3.1942596e+00,  9.8296604e+00, ...,\n",
       "           2.5828111e-01, -3.9357231e+00,  1.9340541e+00],\n",
       "         [ 4.6374445e+00,  9.1460505e+00, -1.9864860e+00, ...,\n",
       "          -7.0400448e+00,  8.8107735e-03,  4.0944710e+00],\n",
       "         [ 1.0749009e+00, -2.8178608e+00, -4.6595669e+00, ...,\n",
       "          -3.9217860e-02,  6.7543874e+00,  6.1084110e-01],\n",
       "         ...,\n",
       "         [ 5.4190974e+00,  4.8023548e+00, -2.3617249e+00, ...,\n",
       "           4.0943246e+00,  2.0301838e+00,  2.6057076e-01],\n",
       "         [ 3.3890548e+00,  9.2970514e-01,  8.9069672e+00, ...,\n",
       "          -1.5135725e+00, -6.5521698e+00, -4.2128620e+00],\n",
       "         [ 4.0718923e+00, -1.8778890e+00, -8.1960106e+00, ...,\n",
       "          -2.7900131e+00,  5.5779095e+00, -7.4434876e-01]]],\n",
       "\n",
       "\n",
       "       [[[-9.6636162e+00,  9.1842356e+00, -8.5371761e+00, ...,\n",
       "           7.1241432e-01, -8.1360245e+00,  6.7829781e+00],\n",
       "         [-7.8598636e-01,  5.0065784e+00, -4.9556074e+00, ...,\n",
       "           7.2921133e+00,  1.6235313e+01, -6.4029293e+00],\n",
       "         [ 4.6363921e+00,  7.4910884e+00, -4.8144042e-02, ...,\n",
       "           3.7726116e+00,  1.1672723e+01,  7.6025190e+00],\n",
       "         ...,\n",
       "         [-8.1273632e+00,  8.8912420e+00, -1.3370868e+00, ...,\n",
       "          -4.8996377e+00,  8.3010807e+00, -1.8182045e-01],\n",
       "         [ 1.1304896e+01, -2.2229550e+00, -1.2110328e+01, ...,\n",
       "           1.7095226e-01, -5.5385365e+00, -8.8372164e+00],\n",
       "         [-8.0701602e-01, -5.6067562e-01,  3.8142741e+00, ...,\n",
       "          -1.3883078e+00, -6.3103890e+00, -5.5874677e+00]],\n",
       "\n",
       "        [[ 2.3242688e+00,  1.1373046e+01, -2.1754390e-01, ...,\n",
       "           1.8302844e+00,  1.0341404e-02, -4.5424833e+00],\n",
       "         [-1.6754061e+01,  1.0770801e+01, -8.5898247e+00, ...,\n",
       "           1.0247671e+01, -2.7368999e+00,  9.5971417e-01],\n",
       "         [ 7.8695126e+00, -9.1935263e+00,  2.8101213e+00, ...,\n",
       "          -3.3261671e+00,  8.7303581e+00,  2.4722123e-01],\n",
       "         ...,\n",
       "         [ 3.7218292e+00,  6.0143852e-01, -5.5812998e+00, ...,\n",
       "          -1.1883675e+00,  1.0342212e+00, -5.3654413e+00],\n",
       "         [ 4.1487050e+00, -3.1518799e-01, -5.9704962e+00, ...,\n",
       "           4.9037013e+00,  3.1662722e+00,  6.1143007e+00],\n",
       "         [-2.0587986e+00, -5.8362722e+00, -8.0675471e-01, ...,\n",
       "           2.5063896e+00,  6.3334045e+00,  4.5356951e+00]],\n",
       "\n",
       "        [[ 6.9810925e+00, -7.0469379e-02,  3.0404058e+00, ...,\n",
       "          -9.7903986e+00,  9.6038752e+00,  3.9545197e+00],\n",
       "         [-5.6742835e-01, -1.0336677e+01, -7.3991003e+00, ...,\n",
       "           4.6067319e+00, -7.8548706e-01, -1.1893171e+01],\n",
       "         [-7.5942888e+00,  7.2451587e+00,  3.9050827e+00, ...,\n",
       "           3.3159053e+00,  5.5533257e+00,  2.2765141e+00],\n",
       "         ...,\n",
       "         [ 4.7414112e+00,  4.5983648e-01, -2.6804669e+00, ...,\n",
       "          -1.0118370e+00,  1.4283940e+01,  1.5040765e+00],\n",
       "         [-2.8949609e+00, -2.8574867e+00, -3.0929840e+00, ...,\n",
       "          -5.5813732e+00, -4.3230314e+00,  2.3177960e+00],\n",
       "         [-1.5051346e+01, -3.6495466e+00,  5.2997484e+00, ...,\n",
       "           3.5734806e+00, -7.8208551e+00, -1.4889208e+00]]],\n",
       "\n",
       "\n",
       "       [[[ 1.7161482e+01, -6.8140182e+00, -8.8892822e+00, ...,\n",
       "          -9.2911329e+00,  3.4577470e+00, -6.3502078e+00],\n",
       "         [ 4.1258886e-01, -2.0263736e+00,  2.5577743e+00, ...,\n",
       "          -8.0541620e+00,  9.1920137e-02, -5.9151775e-01],\n",
       "         [ 8.1551659e-01, -5.3572559e+00, -3.9639800e+00, ...,\n",
       "          -3.7928312e+00,  7.3170695e+00, -2.5610847e+00],\n",
       "         ...,\n",
       "         [-7.2165589e+00, -1.2181153e+00,  6.6545672e+00, ...,\n",
       "           6.1970539e+00,  5.9072108e+00, -4.7571278e+00],\n",
       "         [ 2.8668754e+00,  4.6973457e+00, -2.2045569e+00, ...,\n",
       "          -3.7810209e+00, -8.6875653e-01, -1.5414256e+00],\n",
       "         [-3.7084198e-01,  1.0879083e+01, -2.9438870e+00, ...,\n",
       "           7.8529153e+00, -7.4079447e+00,  8.8558882e-02]],\n",
       "\n",
       "        [[ 3.9189622e+00, -1.2038786e+00,  1.3026403e+01, ...,\n",
       "          -1.7238201e+00,  1.4957633e+00,  4.4918456e+00],\n",
       "         [-1.6547182e+01,  7.8603511e+00,  2.1365280e+00, ...,\n",
       "           4.1886234e+00,  4.2363749e+00,  1.8912653e+00],\n",
       "         [ 1.3896637e+01, -3.2443640e+00,  8.1521273e+00, ...,\n",
       "          -7.5199823e+00, -2.3583653e+00,  4.7727852e+00],\n",
       "         ...,\n",
       "         [ 1.7752668e+01, -1.8827021e+00, -5.1042762e+00, ...,\n",
       "           1.8634044e+00, -1.1040412e+01, -6.3712993e+00],\n",
       "         [ 1.6224895e+00, -2.8631172e+00,  5.7444253e+00, ...,\n",
       "          -3.1222177e+00, -7.5703292e+00, -6.0515022e+00],\n",
       "         [ 5.6875668e+00, -4.1778278e+00, -4.7929516e+00, ...,\n",
       "          -7.7793732e+00, -3.5934138e+00, -4.0062666e-02]],\n",
       "\n",
       "        [[ 3.4493785e+00,  6.0029757e-01, -5.2198915e+00, ...,\n",
       "          -2.4036756e+00,  8.1333847e+00, -4.3737097e+00],\n",
       "         [-6.9587574e+00,  1.8137018e+01,  9.1436749e+00, ...,\n",
       "          -4.6976824e+00,  9.2685986e+00, -3.4746602e-01],\n",
       "         [ 2.6732163e+00, -8.2957726e+00, -7.7776165e+00, ...,\n",
       "           8.1990528e+00, -2.7076478e+00, -1.6253365e+01],\n",
       "         ...,\n",
       "         [ 8.8968744e+00, -4.3194485e+00, -2.8795409e+00, ...,\n",
       "          -5.6069956e+00,  1.2016685e+01, -3.7323422e+00],\n",
       "         [-8.5614338e+00,  6.1609745e-01,  2.4604130e+00, ...,\n",
       "           1.2918966e+00,  3.5396237e+00, -3.7685726e+00],\n",
       "         [-3.1053400e+00, -7.8886604e+00,  4.2754650e+00, ...,\n",
       "           4.0526934e+00,  3.7362676e+00,  4.7589374e-01]]]],\n",
       "      dtype=float32)>"
      ]
     },
     "execution_count": 34,
     "metadata": {},
     "output_type": "execute_result"
    }
   ],
   "source": [
    "a = tf.random.normal([4,3,28,32])\n",
    "b = tf.random.normal([32,16])\n",
    "a@b"
   ]
  },
  {
   "cell_type": "code",
   "execution_count": 35,
   "id": "80393e3d-a23b-4332-b13b-8f049c1c80b2",
   "metadata": {},
   "outputs": [
    {
     "data": {
      "text/plain": [
       "<tf.Tensor: id=640, shape=(10, 35, 8), dtype=float32, numpy=\n",
       "array([[[-2.05272362e-01,  7.57129788e-01,  2.72664368e-01, ...,\n",
       "         -1.70240796e+00, -1.00476015e+00, -6.56562090e-01],\n",
       "        [-9.42455232e-01,  2.73341012e+00, -5.33426940e-01, ...,\n",
       "         -9.79122072e-02, -7.03671157e-01, -8.43378782e-01],\n",
       "        [-6.16952837e-01,  2.69458055e-01,  9.49867785e-01, ...,\n",
       "         -6.22829944e-02, -9.52074826e-01, -1.56198418e+00],\n",
       "        ...,\n",
       "        [ 1.66485476e+00, -2.26696372e+00, -2.18793225e+00, ...,\n",
       "          1.28520584e+00, -1.10665405e+00, -2.43787384e+00],\n",
       "        [ 1.00329387e+00, -1.47515047e+00,  6.93376720e-01, ...,\n",
       "         -6.40914440e-01, -2.49202758e-01, -8.72319937e-01],\n",
       "        [-8.01789284e-01,  1.63087833e+00, -1.89268649e+00, ...,\n",
       "          1.00276160e+00, -3.92007194e-02,  4.61847335e-01]],\n",
       "\n",
       "       [[-9.36858356e-01,  2.34611690e-01, -5.22453249e-01, ...,\n",
       "          5.15377700e-01, -4.68065739e-01,  2.92189956e-01],\n",
       "        [ 7.15508580e-01,  1.85889885e-01, -1.12879789e+00, ...,\n",
       "          8.66779625e-01, -6.33430481e-01,  2.40393400e-01],\n",
       "        [ 1.46011090e+00,  1.57528996e+00, -2.70452321e-01, ...,\n",
       "         -6.80703521e-01,  3.58515769e-01, -1.18990965e-01],\n",
       "        ...,\n",
       "        [-2.59214669e-01,  4.12605435e-01,  3.21175724e-01, ...,\n",
       "         -6.92360103e-01, -3.94419044e-01,  1.71340227e-01],\n",
       "        [-5.04118688e-02,  7.22622693e-01, -4.72033173e-01, ...,\n",
       "         -9.71029818e-01,  1.14238620e+00,  1.42606974e+00],\n",
       "        [ 1.09152091e+00, -7.23816693e-01, -1.08119154e+00, ...,\n",
       "          2.04530931e+00, -9.27818775e-01,  1.57313287e+00]],\n",
       "\n",
       "       [[-6.69216216e-01, -1.07559657e+00,  5.56755811e-02, ...,\n",
       "         -6.56126976e-01, -9.60650027e-01,  1.38960168e-01],\n",
       "        [-7.51737773e-01, -5.44384658e-01,  7.69896209e-01, ...,\n",
       "         -1.54065633e+00, -8.87187421e-02, -9.94106308e-02],\n",
       "        [ 1.65662207e-02, -3.27746004e-01, -4.72300619e-01, ...,\n",
       "         -2.53246188e-01,  1.90215480e+00,  2.35224605e-01],\n",
       "        ...,\n",
       "        [ 7.74976492e-01, -9.51672673e-01,  6.37327611e-01, ...,\n",
       "          6.01077862e-02,  1.21356928e+00,  4.26360250e-01],\n",
       "        [-6.92610687e-04,  9.31912303e-01, -3.81638139e-01, ...,\n",
       "         -5.36811948e-01,  2.71102577e-01,  1.86766669e-01],\n",
       "        [-2.25125745e-01,  3.08200926e-01,  1.89407182e+00, ...,\n",
       "         -3.61355752e-01, -1.92051157e-01,  1.90804720e+00]],\n",
       "\n",
       "       ...,\n",
       "\n",
       "       [[-2.36429751e-01,  6.14542186e-01,  4.30639744e-01, ...,\n",
       "          2.09867311e+00, -1.15771465e-01,  8.96655142e-01],\n",
       "        [-9.58456516e-01, -1.81569183e+00,  1.02507782e+00, ...,\n",
       "         -8.69801521e-01, -4.03665423e-01, -8.27825367e-01],\n",
       "        [ 8.28826249e-01,  8.04970264e-01, -1.99559435e-01, ...,\n",
       "          5.26054740e-01,  4.83967960e-01, -8.06926787e-01],\n",
       "        ...,\n",
       "        [-1.04733789e+00, -7.86706284e-02, -3.37405950e-01, ...,\n",
       "         -1.79055488e+00, -2.05140114e+00,  1.50948060e+00],\n",
       "        [ 2.79255629e-01, -1.55330694e+00, -2.84916967e-01, ...,\n",
       "          2.63122618e-01, -3.55093896e-01,  8.04196656e-01],\n",
       "        [ 4.75522131e-01, -7.55416870e-01,  1.01969302e+00, ...,\n",
       "         -1.23748004e+00, -3.09762418e-01, -3.39353323e-01]],\n",
       "\n",
       "       [[ 5.86111665e-01, -6.61668539e-01, -3.75945181e-01, ...,\n",
       "         -3.96404862e-01,  3.61145824e-01, -9.46750224e-01],\n",
       "        [-3.16599756e-01,  1.20657116e-01, -7.69032478e-01, ...,\n",
       "         -1.74833858e+00, -3.52347821e-01,  4.95492518e-01],\n",
       "        [ 1.04344621e-01, -7.10532188e-01,  4.28436697e-01, ...,\n",
       "         -1.47518754e-01,  4.12768453e-01,  2.34556660e-01],\n",
       "        ...,\n",
       "        [-8.11472654e-01,  9.52894807e-01,  4.65815604e-01, ...,\n",
       "          5.36621094e-01,  1.11816072e+00, -3.17738988e-02],\n",
       "        [-6.20838046e-01,  3.77767414e-01,  4.38394278e-01, ...,\n",
       "         -3.30130577e-01,  7.20482469e-01, -6.12000488e-02],\n",
       "        [-8.50167692e-01,  1.26230383e+00, -2.74797469e-01, ...,\n",
       "         -8.85749459e-01,  4.99089539e-01, -4.27872926e-01]],\n",
       "\n",
       "       [[ 1.32298529e+00, -1.14901328e+00, -2.00113392e+00, ...,\n",
       "         -2.52773494e-01,  3.84742379e-01, -3.67862582e-01],\n",
       "        [ 2.46297389e-01,  2.60442555e-01,  8.36875737e-01, ...,\n",
       "          4.71043110e-01,  5.13547957e-01,  7.45296180e-01],\n",
       "        [-4.48910862e-01, -1.58016658e+00, -5.90853393e-01, ...,\n",
       "          1.07473955e-02, -9.13720727e-01,  1.40763402e-01],\n",
       "        ...,\n",
       "        [-3.22755754e-01,  9.32329774e-01,  2.81759389e-02, ...,\n",
       "          3.41712907e-02, -1.61524683e-01,  5.71953952e-01],\n",
       "        [-9.89052355e-02,  1.21112406e+00,  1.32772195e+00, ...,\n",
       "          3.81272435e-01, -1.50460374e+00,  1.01237714e+00],\n",
       "        [ 6.05393648e-01,  8.05977955e-02,  1.93660706e-01, ...,\n",
       "         -5.01392603e-01, -1.51489520e+00, -1.37703979e+00]]],\n",
       "      dtype=float32)>"
      ]
     },
     "execution_count": 35,
     "metadata": {},
     "output_type": "execute_result"
    }
   ],
   "source": [
    "a = tf.random.normal([4,35,8])\n",
    "b = tf.random.normal([6,35,8])\n",
    "tf.concat([a,b],axis=0)"
   ]
  },
  {
   "cell_type": "code",
   "execution_count": 36,
   "id": "c1e0e8e5-4e6c-4b27-99e0-60d96d094d22",
   "metadata": {},
   "outputs": [
    {
     "data": {
      "text/plain": [
       "<tf.Tensor: id=647, shape=(100, 10), dtype=float32, numpy=\n",
       "array([[0.17000842, 0.06719413, 0.08390705, 0.10343722, 0.10041989,\n",
       "        0.13000369, 0.10744851, 0.12271389, 0.0989413 , 0.01592584],\n",
       "       [0.12173421, 0.00751446, 0.03849679, 0.1895493 , 0.09701863,\n",
       "        0.29676482, 0.008965  , 0.07155495, 0.04956149, 0.11884025],\n",
       "       [0.2994026 , 0.01186121, 0.38419077, 0.0643781 , 0.07603785,\n",
       "        0.04178541, 0.01272664, 0.06083168, 0.03562813, 0.01315757],\n",
       "       [0.0650001 , 0.10583025, 0.10197909, 0.05470667, 0.15843973,\n",
       "        0.01555459, 0.3065158 , 0.03490901, 0.06537569, 0.09168909],\n",
       "       [0.2791099 , 0.02974503, 0.0670152 , 0.06062933, 0.06254968,\n",
       "        0.07584734, 0.09142031, 0.07918812, 0.16637367, 0.08812143],\n",
       "       [0.02051764, 0.0526658 , 0.09612791, 0.03120635, 0.6195151 ,\n",
       "        0.03168944, 0.06236999, 0.03776705, 0.02758638, 0.02055443],\n",
       "       [0.03952775, 0.04942899, 0.01077682, 0.10800847, 0.0671166 ,\n",
       "        0.11955687, 0.19888994, 0.323948  , 0.0472409 , 0.03550563],\n",
       "       [0.08026864, 0.18488568, 0.07511435, 0.2572507 , 0.05551745,\n",
       "        0.09267849, 0.06848168, 0.13362671, 0.02851438, 0.02366188],\n",
       "       [0.06781967, 0.18832222, 0.0106042 , 0.12709805, 0.0397141 ,\n",
       "        0.12032416, 0.01133875, 0.11561812, 0.20688497, 0.11227562],\n",
       "       [0.2195496 , 0.05164675, 0.07193921, 0.01912673, 0.09778878,\n",
       "        0.15867627, 0.03940634, 0.03885158, 0.1643443 , 0.1386704 ],\n",
       "       [0.06482114, 0.13071321, 0.11343957, 0.25826156, 0.05239801,\n",
       "        0.03904161, 0.06112675, 0.0316302 , 0.13755287, 0.11101509],\n",
       "       [0.15133078, 0.06862344, 0.12586083, 0.04075293, 0.05358528,\n",
       "        0.10975173, 0.11641835, 0.02938315, 0.20471837, 0.09957507],\n",
       "       [0.05149782, 0.11268299, 0.02377408, 0.19108038, 0.04221822,\n",
       "        0.16750729, 0.08502343, 0.01461901, 0.03942298, 0.27217367],\n",
       "       [0.02005694, 0.01826739, 0.03952656, 0.03739102, 0.3685237 ,\n",
       "        0.03502539, 0.1302074 , 0.20828374, 0.08179837, 0.06091948],\n",
       "       [0.19846652, 0.12055582, 0.07546592, 0.09713688, 0.02646098,\n",
       "        0.02338421, 0.09749578, 0.30646634, 0.03158232, 0.02298518],\n",
       "       [0.20542824, 0.01649786, 0.09838939, 0.03321855, 0.03282273,\n",
       "        0.08644279, 0.19754858, 0.20829363, 0.0598008 , 0.06155746],\n",
       "       [0.03374716, 0.12572205, 0.08268975, 0.35174814, 0.04208766,\n",
       "        0.0765572 , 0.00884221, 0.0452085 , 0.11636803, 0.11702932],\n",
       "       [0.01586493, 0.0778266 , 0.05464461, 0.07997827, 0.359567  ,\n",
       "        0.07411224, 0.07148622, 0.01129403, 0.0309737 , 0.22425245],\n",
       "       [0.05800932, 0.12097708, 0.04866145, 0.00422969, 0.00473151,\n",
       "        0.08511611, 0.0776049 , 0.04053532, 0.00988789, 0.5502467 ],\n",
       "       [0.03541193, 0.06941044, 0.01568035, 0.285128  , 0.08698817,\n",
       "        0.04324645, 0.02499099, 0.02011388, 0.17176147, 0.24726833],\n",
       "       [0.01051472, 0.05595391, 0.413833  , 0.03880312, 0.05648731,\n",
       "        0.01158925, 0.10648122, 0.2133084 , 0.02749101, 0.06553817],\n",
       "       [0.21919738, 0.1307434 , 0.08003493, 0.06485503, 0.03429626,\n",
       "        0.16251361, 0.11126439, 0.04479462, 0.03680343, 0.1154969 ],\n",
       "       [0.22800183, 0.06242288, 0.07768588, 0.26097837, 0.02835525,\n",
       "        0.02168812, 0.14201884, 0.04384808, 0.07375222, 0.06124852],\n",
       "       [0.00647278, 0.01818594, 0.04562939, 0.19658275, 0.32236773,\n",
       "        0.057335  , 0.08066873, 0.05444867, 0.06677677, 0.15153222],\n",
       "       [0.14778683, 0.08551612, 0.2845538 , 0.07977911, 0.03394528,\n",
       "        0.07512382, 0.08361021, 0.04377849, 0.09358579, 0.07232054],\n",
       "       [0.0151315 , 0.04644351, 0.07032223, 0.07860474, 0.1296375 ,\n",
       "        0.23608615, 0.18790407, 0.06506532, 0.12531833, 0.04548667],\n",
       "       [0.19707152, 0.17211752, 0.17973575, 0.02619033, 0.08120705,\n",
       "        0.18030952, 0.01781711, 0.10391391, 0.03157983, 0.01005756],\n",
       "       [0.05140029, 0.07149896, 0.03893917, 0.29663172, 0.05051628,\n",
       "        0.18958174, 0.01349601, 0.12428989, 0.09215011, 0.07149595],\n",
       "       [0.05458695, 0.3069794 , 0.02444748, 0.02247803, 0.03808147,\n",
       "        0.15356903, 0.16593689, 0.04681214, 0.1254231 , 0.06168558],\n",
       "       [0.00815218, 0.3599247 , 0.04611755, 0.00830229, 0.45476827,\n",
       "        0.01324791, 0.03122374, 0.02641244, 0.01490436, 0.03694654],\n",
       "       [0.00353606, 0.06531245, 0.04358035, 0.0167017 , 0.03081139,\n",
       "        0.25384337, 0.07685981, 0.17264122, 0.03676376, 0.29994982],\n",
       "       [0.01864225, 0.13142493, 0.19097161, 0.09800856, 0.04305586,\n",
       "        0.01890499, 0.04154716, 0.347888  , 0.06860384, 0.04095275],\n",
       "       [0.09444925, 0.05278289, 0.02679845, 0.01886747, 0.47198823,\n",
       "        0.2007091 , 0.01048711, 0.02825613, 0.07318415, 0.02247722],\n",
       "       [0.1127187 , 0.13910206, 0.06828015, 0.1367599 , 0.06497633,\n",
       "        0.08700701, 0.1537418 , 0.06740487, 0.12133354, 0.04867563],\n",
       "       [0.14253174, 0.06885172, 0.08473869, 0.01168501, 0.1133029 ,\n",
       "        0.08697813, 0.12713434, 0.28435877, 0.04821962, 0.03219906],\n",
       "       [0.00582514, 0.02278979, 0.2881529 , 0.07598385, 0.08625584,\n",
       "        0.04424612, 0.27829304, 0.12560986, 0.04885168, 0.02399177],\n",
       "       [0.16351551, 0.0915676 , 0.04783406, 0.00870181, 0.06027419,\n",
       "        0.04968138, 0.05854303, 0.37182024, 0.00873097, 0.13933127],\n",
       "       [0.04802802, 0.03192521, 0.12240569, 0.02327067, 0.03608879,\n",
       "        0.41494104, 0.09283186, 0.07703581, 0.12244936, 0.03102357],\n",
       "       [0.0457657 , 0.04401907, 0.09672821, 0.05950777, 0.31301385,\n",
       "        0.14357314, 0.0685817 , 0.05009812, 0.07184964, 0.10686278],\n",
       "       [0.02713466, 0.01829712, 0.0384361 , 0.39684248, 0.02069344,\n",
       "        0.02514244, 0.03858596, 0.02352159, 0.19736868, 0.21397747],\n",
       "       [0.02313943, 0.03050854, 0.09788968, 0.1849213 , 0.05484511,\n",
       "        0.16924748, 0.12366515, 0.0424038 , 0.25553876, 0.01784077],\n",
       "       [0.02858462, 0.16744769, 0.06380156, 0.10354207, 0.04082909,\n",
       "        0.04158591, 0.10815713, 0.12470722, 0.06536976, 0.25597498],\n",
       "       [0.10993259, 0.01805551, 0.11016967, 0.3148633 , 0.026503  ,\n",
       "        0.01631319, 0.04267857, 0.11598418, 0.13022321, 0.11527675],\n",
       "       [0.16275048, 0.07790401, 0.05295346, 0.10811836, 0.03760847,\n",
       "        0.11572716, 0.13798624, 0.20679367, 0.04053662, 0.05962163],\n",
       "       [0.08889546, 0.1285096 , 0.23524854, 0.05501583, 0.13000119,\n",
       "        0.02132822, 0.15013269, 0.05718932, 0.05519485, 0.0784844 ],\n",
       "       [0.00884727, 0.03705547, 0.00919144, 0.02129314, 0.07248668,\n",
       "        0.20166725, 0.12481055, 0.24534018, 0.14745992, 0.13184805],\n",
       "       [0.13075404, 0.22691831, 0.1681421 , 0.1059714 , 0.08072087,\n",
       "        0.05876749, 0.03501519, 0.01928569, 0.04817057, 0.12625444],\n",
       "       [0.14658715, 0.04870165, 0.39974055, 0.01221965, 0.06154192,\n",
       "        0.02391679, 0.01166263, 0.05263359, 0.06782869, 0.17516741],\n",
       "       [0.02694489, 0.01639117, 0.03944698, 0.02696958, 0.05659226,\n",
       "        0.32819673, 0.19006665, 0.08207957, 0.03119328, 0.20211893],\n",
       "       [0.08442824, 0.1290652 , 0.19122422, 0.05487725, 0.08002942,\n",
       "        0.0865288 , 0.11214165, 0.1544108 , 0.06928901, 0.03800546],\n",
       "       [0.08511725, 0.04101459, 0.01717179, 0.06362898, 0.03526567,\n",
       "        0.02067754, 0.13337322, 0.08599404, 0.01667163, 0.5010853 ],\n",
       "       [0.0913936 , 0.06046022, 0.03247779, 0.03633958, 0.1168705 ,\n",
       "        0.18794657, 0.03620904, 0.15862577, 0.14496724, 0.13470969],\n",
       "       [0.07304129, 0.12454896, 0.05063897, 0.03507809, 0.07452129,\n",
       "        0.27092955, 0.24973795, 0.04217723, 0.04225833, 0.03706832],\n",
       "       [0.02940221, 0.01502282, 0.15475257, 0.19624707, 0.14234635,\n",
       "        0.0813287 , 0.02215367, 0.02916062, 0.26639453, 0.06319149],\n",
       "       [0.07879522, 0.02490758, 0.07448541, 0.20423122, 0.16937214,\n",
       "        0.02913385, 0.03175945, 0.1401994 , 0.13911392, 0.10800175],\n",
       "       [0.12449124, 0.04409658, 0.06816546, 0.0574428 , 0.0392405 ,\n",
       "        0.0429409 , 0.12336718, 0.10580175, 0.08316226, 0.31129137],\n",
       "       [0.18973106, 0.39223948, 0.02317293, 0.03677808, 0.08136419,\n",
       "        0.02573129, 0.04694239, 0.02880582, 0.12128651, 0.05394822],\n",
       "       [0.10715065, 0.11710422, 0.16307944, 0.08051575, 0.05948802,\n",
       "        0.06581705, 0.09210601, 0.0575974 , 0.04030545, 0.216836  ],\n",
       "       [0.05094507, 0.03770683, 0.5164959 , 0.11235456, 0.01193375,\n",
       "        0.05975043, 0.06790895, 0.05520489, 0.07225098, 0.01544858],\n",
       "       [0.3428174 , 0.01789716, 0.15539938, 0.09419637, 0.04809969,\n",
       "        0.07021634, 0.1113138 , 0.01837894, 0.05303641, 0.08864441],\n",
       "       [0.1463663 , 0.0706323 , 0.02663283, 0.14239332, 0.07569855,\n",
       "        0.2017209 , 0.05965541, 0.03665451, 0.1042799 , 0.13596599],\n",
       "       [0.21792038, 0.14927508, 0.02750865, 0.09173125, 0.1050675 ,\n",
       "        0.17635714, 0.11081348, 0.06062587, 0.01797775, 0.04272295],\n",
       "       [0.24395888, 0.11380243, 0.03614369, 0.00978433, 0.07847919,\n",
       "        0.11889073, 0.03414794, 0.0514809 , 0.24391112, 0.06940083],\n",
       "       [0.08235709, 0.02731896, 0.15202524, 0.03313774, 0.2417221 ,\n",
       "        0.01310183, 0.13950445, 0.02783231, 0.1900871 , 0.09291314],\n",
       "       [0.16934241, 0.04100495, 0.03180611, 0.12864402, 0.23235707,\n",
       "        0.10264792, 0.03077482, 0.06010143, 0.06887037, 0.13445085],\n",
       "       [0.09081158, 0.33736527, 0.04316583, 0.12854554, 0.08270665,\n",
       "        0.09920361, 0.03943555, 0.11331417, 0.05660915, 0.00884258],\n",
       "       [0.03835723, 0.13698752, 0.0796435 , 0.05854385, 0.06329423,\n",
       "        0.1375233 , 0.08024833, 0.11858704, 0.1196511 , 0.16716391],\n",
       "       [0.1020843 , 0.01006941, 0.16797993, 0.09177633, 0.16188209,\n",
       "        0.16192867, 0.01259806, 0.2398997 , 0.03371551, 0.01806605],\n",
       "       [0.23398215, 0.02799092, 0.05955471, 0.06843903, 0.13121827,\n",
       "        0.3521819 , 0.01389763, 0.00583412, 0.01449507, 0.09240621],\n",
       "       [0.153168  , 0.03563413, 0.10010987, 0.04516517, 0.02722923,\n",
       "        0.17260703, 0.03877309, 0.1492172 , 0.02841523, 0.24968101],\n",
       "       [0.01609738, 0.02579277, 0.01559431, 0.06414566, 0.0748713 ,\n",
       "        0.20379399, 0.00435002, 0.13686179, 0.45288116, 0.00561153],\n",
       "       [0.25165528, 0.13564076, 0.07544711, 0.02073153, 0.00684893,\n",
       "        0.3532512 , 0.06349041, 0.00423034, 0.00490693, 0.08379751],\n",
       "       [0.20706576, 0.14254512, 0.05275132, 0.03381132, 0.0845623 ,\n",
       "        0.03451511, 0.23874673, 0.05196716, 0.07460987, 0.07942531],\n",
       "       [0.12057359, 0.20535411, 0.06083903, 0.0196213 , 0.0855913 ,\n",
       "        0.01622893, 0.19625388, 0.08698749, 0.11131471, 0.0972355 ],\n",
       "       [0.03891968, 0.46803656, 0.02082879, 0.06194581, 0.00683487,\n",
       "        0.03371997, 0.08265688, 0.07363595, 0.06708629, 0.14633532],\n",
       "       [0.00600145, 0.3243884 , 0.28257906, 0.06253991, 0.09303492,\n",
       "        0.07638436, 0.02708721, 0.07646887, 0.03005118, 0.02146456],\n",
       "       [0.04244665, 0.01047352, 0.19087102, 0.1534639 , 0.13056687,\n",
       "        0.17302476, 0.05446037, 0.02835343, 0.16523601, 0.0511035 ],\n",
       "       [0.01614597, 0.01880047, 0.03166182, 0.06075548, 0.109173  ,\n",
       "        0.23058723, 0.38051587, 0.0745573 , 0.02490567, 0.05289724],\n",
       "       [0.03881219, 0.3226174 , 0.08282291, 0.21353155, 0.03527845,\n",
       "        0.09994329, 0.03722345, 0.09017379, 0.00770734, 0.07188959],\n",
       "       [0.4085275 , 0.01649187, 0.03818585, 0.02398979, 0.06178204,\n",
       "        0.0577373 , 0.00993412, 0.09124281, 0.24731001, 0.04479874],\n",
       "       [0.03181594, 0.02984786, 0.10948824, 0.09754451, 0.12016013,\n",
       "        0.07330793, 0.1183383 , 0.13609257, 0.10840901, 0.17499547],\n",
       "       [0.02504585, 0.06193269, 0.05319962, 0.07483636, 0.02514091,\n",
       "        0.04250054, 0.16869615, 0.16291146, 0.12173321, 0.2640031 ],\n",
       "       [0.03685708, 0.00999937, 0.5089422 , 0.05836983, 0.05402496,\n",
       "        0.04344438, 0.09859428, 0.08746435, 0.05695267, 0.04535086],\n",
       "       [0.12065294, 0.21215591, 0.08787937, 0.02454713, 0.02838729,\n",
       "        0.04939328, 0.17758396, 0.14119048, 0.07179639, 0.08641334],\n",
       "       [0.05572023, 0.20084845, 0.03517396, 0.07748351, 0.11255679,\n",
       "        0.03924676, 0.01312277, 0.33592686, 0.09963137, 0.0302892 ],\n",
       "       [0.16872579, 0.05269386, 0.03100137, 0.11191255, 0.07235683,\n",
       "        0.20012805, 0.05456237, 0.28749985, 0.01267463, 0.00844472],\n",
       "       [0.02546977, 0.03263399, 0.02030064, 0.45255604, 0.1739547 ,\n",
       "        0.09443664, 0.10362513, 0.01459488, 0.05553363, 0.02689465],\n",
       "       [0.06880868, 0.0519042 , 0.0523126 , 0.05854321, 0.32179883,\n",
       "        0.08941454, 0.17846629, 0.01473201, 0.09617112, 0.06784854],\n",
       "       [0.07026961, 0.1266363 , 0.06084926, 0.2232469 , 0.03159039,\n",
       "        0.18575762, 0.0382162 , 0.12091997, 0.07933544, 0.06317826],\n",
       "       [0.03096725, 0.09825467, 0.10259946, 0.28503278, 0.02744102,\n",
       "        0.057531  , 0.05647522, 0.05117366, 0.06195747, 0.22856742],\n",
       "       [0.14377783, 0.2594946 , 0.10255133, 0.03464821, 0.05848229,\n",
       "        0.16668136, 0.04023455, 0.0660267 , 0.03639124, 0.09171192],\n",
       "       [0.03847318, 0.05835995, 0.04004286, 0.15943441, 0.01675942,\n",
       "        0.05529283, 0.21315241, 0.31592166, 0.06887145, 0.03369181],\n",
       "       [0.01044722, 0.01986762, 0.07867376, 0.06833045, 0.02955963,\n",
       "        0.21063009, 0.04723583, 0.4430572 , 0.02422914, 0.06796911],\n",
       "       [0.06255075, 0.34656644, 0.24089608, 0.05384128, 0.01541153,\n",
       "        0.00978329, 0.00808938, 0.01123721, 0.13114409, 0.12047993],\n",
       "       [0.07468273, 0.09069496, 0.03453838, 0.09185517, 0.14839338,\n",
       "        0.1107503 , 0.2619897 , 0.06678772, 0.07552144, 0.04478627],\n",
       "       [0.22229062, 0.04051353, 0.03143529, 0.29525602, 0.08373193,\n",
       "        0.13781054, 0.04495614, 0.02202387, 0.01207277, 0.10990928],\n",
       "       [0.07757365, 0.33870372, 0.02475097, 0.08813985, 0.07847352,\n",
       "        0.16461566, 0.06952843, 0.07185818, 0.06255099, 0.02380506],\n",
       "       [0.08823052, 0.14665522, 0.05088065, 0.07321246, 0.12547655,\n",
       "        0.10974357, 0.11984102, 0.04390339, 0.23054701, 0.01150961],\n",
       "       [0.09411443, 0.09359118, 0.08104146, 0.06342652, 0.10704824,\n",
       "        0.03419727, 0.03081355, 0.02287857, 0.02378596, 0.44910285],\n",
       "       [0.16117719, 0.13857043, 0.17594378, 0.05747438, 0.01354225,\n",
       "        0.06093008, 0.01514824, 0.29834837, 0.03223598, 0.04662932]],\n",
       "      dtype=float32)>"
      ]
     },
     "execution_count": 36,
     "metadata": {},
     "output_type": "execute_result"
    }
   ],
   "source": [
    "out = tf.random.normal([100,10])\n",
    "out = tf.nn.softmax(out, axis=1)\n",
    "out"
   ]
  },
  {
   "cell_type": "code",
   "execution_count": 45,
   "id": "89deb3bf-5d57-48d1-86c3-c0b0035c43fb",
   "metadata": {},
   "outputs": [
    {
     "ename": "NotFoundError",
     "evalue": "Could not find valid device for node.\nNode:{{node Softmax}}\nAll kernels registered for op Softmax :\n  device='CPU'; T in [DT_HALF]\n  device='CPU'; T in [DT_FLOAT]\n  device='CPU'; T in [DT_DOUBLE]\n [Op:Softmax]",
     "output_type": "error",
     "traceback": [
      "\u001b[1;31m---------------------------------------------------------------------------\u001b[0m",
      "\u001b[1;31mNotFoundError\u001b[0m                             Traceback (most recent call last)",
      "\u001b[1;32m~\\AppData\\Local\\Temp\\ipykernel_19916\\3292470461.py\u001b[0m in \u001b[0;36m<module>\u001b[1;34m\u001b[0m\n\u001b[0;32m      1\u001b[0m \u001b[0mx\u001b[0m \u001b[1;33m=\u001b[0m \u001b[0mtf\u001b[0m\u001b[1;33m.\u001b[0m\u001b[0mrange\u001b[0m\u001b[1;33m(\u001b[0m\u001b[1;36m10\u001b[0m\u001b[1;33m)\u001b[0m\u001b[1;33m\u001b[0m\u001b[0m\n\u001b[0;32m      2\u001b[0m \u001b[0mx\u001b[0m \u001b[1;33m=\u001b[0m \u001b[0mtf\u001b[0m\u001b[1;33m.\u001b[0m\u001b[0mreshape\u001b[0m\u001b[1;33m(\u001b[0m\u001b[0mx\u001b[0m\u001b[1;33m,\u001b[0m\u001b[1;33m[\u001b[0m\u001b[1;36m1\u001b[0m\u001b[1;33m,\u001b[0m\u001b[1;36m10\u001b[0m\u001b[1;33m]\u001b[0m\u001b[1;33m)\u001b[0m\u001b[1;33m\u001b[0m\u001b[0m\n\u001b[1;32m----> 3\u001b[1;33m \u001b[0mx\u001b[0m \u001b[1;33m=\u001b[0m \u001b[0mtf\u001b[0m\u001b[1;33m.\u001b[0m\u001b[0mnn\u001b[0m\u001b[1;33m.\u001b[0m\u001b[0msoftmax\u001b[0m\u001b[1;33m(\u001b[0m\u001b[0mx\u001b[0m\u001b[1;33m,\u001b[0m \u001b[0maxis\u001b[0m\u001b[1;33m=\u001b[0m\u001b[1;36m1\u001b[0m\u001b[1;33m)\u001b[0m\u001b[1;33m\u001b[0m\u001b[0m\n\u001b[0m",
      "\u001b[1;32mD:\\Anaconda3\\envs\\tf2\\lib\\site-packages\\tensorflow_core\\python\\ops\\nn_ops.py\u001b[0m in \u001b[0;36msoftmax_v2\u001b[1;34m(logits, axis, name)\u001b[0m\n\u001b[0;32m   2983\u001b[0m   \u001b[1;32mif\u001b[0m \u001b[0maxis\u001b[0m \u001b[1;32mis\u001b[0m \u001b[1;32mNone\u001b[0m\u001b[1;33m:\u001b[0m\u001b[1;33m\u001b[0m\u001b[0m\n\u001b[0;32m   2984\u001b[0m     \u001b[0maxis\u001b[0m \u001b[1;33m=\u001b[0m \u001b[1;33m-\u001b[0m\u001b[1;36m1\u001b[0m\u001b[1;33m\u001b[0m\u001b[0m\n\u001b[1;32m-> 2985\u001b[1;33m   \u001b[1;32mreturn\u001b[0m \u001b[0m_softmax\u001b[0m\u001b[1;33m(\u001b[0m\u001b[0mlogits\u001b[0m\u001b[1;33m,\u001b[0m \u001b[0mgen_nn_ops\u001b[0m\u001b[1;33m.\u001b[0m\u001b[0msoftmax\u001b[0m\u001b[1;33m,\u001b[0m \u001b[0maxis\u001b[0m\u001b[1;33m,\u001b[0m \u001b[0mname\u001b[0m\u001b[1;33m)\u001b[0m\u001b[1;33m\u001b[0m\u001b[0m\n\u001b[0m\u001b[0;32m   2986\u001b[0m \u001b[1;33m\u001b[0m\u001b[0m\n\u001b[0;32m   2987\u001b[0m \u001b[1;33m\u001b[0m\u001b[0m\n",
      "\u001b[1;32mD:\\Anaconda3\\envs\\tf2\\lib\\site-packages\\tensorflow_core\\python\\ops\\nn_ops.py\u001b[0m in \u001b[0;36m_softmax\u001b[1;34m(logits, compute_op, dim, name)\u001b[0m\n\u001b[0;32m   2889\u001b[0m \u001b[1;33m\u001b[0m\u001b[0m\n\u001b[0;32m   2890\u001b[0m   \u001b[1;32mif\u001b[0m \u001b[0mis_last_dim\u001b[0m\u001b[1;33m:\u001b[0m\u001b[1;33m\u001b[0m\u001b[0m\n\u001b[1;32m-> 2891\u001b[1;33m     \u001b[1;32mreturn\u001b[0m \u001b[0mcompute_op\u001b[0m\u001b[1;33m(\u001b[0m\u001b[0mlogits\u001b[0m\u001b[1;33m,\u001b[0m \u001b[0mname\u001b[0m\u001b[1;33m=\u001b[0m\u001b[0mname\u001b[0m\u001b[1;33m)\u001b[0m\u001b[1;33m\u001b[0m\u001b[0m\n\u001b[0m\u001b[0;32m   2892\u001b[0m \u001b[1;33m\u001b[0m\u001b[0m\n\u001b[0;32m   2893\u001b[0m   \u001b[0mdim_val\u001b[0m \u001b[1;33m=\u001b[0m \u001b[0mdim\u001b[0m\u001b[1;33m\u001b[0m\u001b[0m\n",
      "\u001b[1;32mD:\\Anaconda3\\envs\\tf2\\lib\\site-packages\\tensorflow_core\\python\\ops\\gen_nn_ops.py\u001b[0m in \u001b[0;36msoftmax\u001b[1;34m(logits, name)\u001b[0m\n\u001b[0;32m  11374\u001b[0m       \u001b[1;32melse\u001b[0m\u001b[1;33m:\u001b[0m\u001b[1;33m\u001b[0m\u001b[0m\n\u001b[0;32m  11375\u001b[0m         \u001b[0mmessage\u001b[0m \u001b[1;33m=\u001b[0m \u001b[0me\u001b[0m\u001b[1;33m.\u001b[0m\u001b[0mmessage\u001b[0m\u001b[1;33m\u001b[0m\u001b[0m\n\u001b[1;32m> 11376\u001b[1;33m       \u001b[0m_six\u001b[0m\u001b[1;33m.\u001b[0m\u001b[0mraise_from\u001b[0m\u001b[1;33m(\u001b[0m\u001b[0m_core\u001b[0m\u001b[1;33m.\u001b[0m\u001b[0m_status_to_exception\u001b[0m\u001b[1;33m(\u001b[0m\u001b[0me\u001b[0m\u001b[1;33m.\u001b[0m\u001b[0mcode\u001b[0m\u001b[1;33m,\u001b[0m \u001b[0mmessage\u001b[0m\u001b[1;33m)\u001b[0m\u001b[1;33m,\u001b[0m \u001b[1;32mNone\u001b[0m\u001b[1;33m)\u001b[0m\u001b[1;33m\u001b[0m\u001b[0m\n\u001b[0m\u001b[0;32m  11377\u001b[0m   \u001b[1;31m# Add nodes to the TensorFlow graph.\u001b[0m\u001b[1;33m\u001b[0m\u001b[1;33m\u001b[0m\u001b[0m\n\u001b[0;32m  11378\u001b[0m   _, _, _op = _op_def_lib._apply_op_helper(\n",
      "\u001b[1;32mD:\\Anaconda3\\envs\\tf2\\lib\\site-packages\\six.py\u001b[0m in \u001b[0;36mraise_from\u001b[1;34m(value, from_value)\u001b[0m\n",
      "\u001b[1;31mNotFoundError\u001b[0m: Could not find valid device for node.\nNode:{{node Softmax}}\nAll kernels registered for op Softmax :\n  device='CPU'; T in [DT_HALF]\n  device='CPU'; T in [DT_FLOAT]\n  device='CPU'; T in [DT_DOUBLE]\n [Op:Softmax]"
     ]
    }
   ],
   "source": [
    "x = tf.range(10)\n",
    "x = tf.reshape(x,[1,10])\n",
    "x = tf.nn.softmax(x, axis=1)"
   ]
  },
  {
   "cell_type": "code",
   "execution_count": 46,
   "id": "90a8ae93-8470-4c14-9e91-8b0f6cdea016",
   "metadata": {},
   "outputs": [],
   "source": [
    "out = tf.random.normal([100,10])\n",
    "out = tf.nn.softmax(out, axis=1)\n",
    "pred = tf.argmax(out, axis = 1)\n"
   ]
  },
  {
   "cell_type": "code",
   "execution_count": 47,
   "id": "5460c2a1-8baf-4a6b-bbd0-d2950cc8a822",
   "metadata": {},
   "outputs": [
    {
     "data": {
      "text/plain": [
       "<tf.Tensor: id=701, shape=(100,), dtype=int64, numpy=\n",
       "array([0, 6, 1, 3, 2, 4, 4, 2, 2, 9, 3, 9, 0, 7, 9, 4, 0, 3, 9, 5, 2, 9,\n",
       "       0, 4, 4, 5, 3, 7, 6, 9, 8, 2, 5, 8, 7, 9, 9, 4, 9, 6, 7, 3, 2, 5,\n",
       "       5, 5, 1, 5, 2, 8, 6, 9, 1, 2, 1, 4, 2, 3, 3, 0, 5, 2, 0, 6, 9, 5,\n",
       "       4, 6, 0, 5, 1, 2, 9, 7, 8, 9, 3, 0, 4, 4, 2, 4, 1, 3, 5, 6, 3, 4,\n",
       "       4, 2, 2, 7, 5, 1, 3, 1, 9, 4, 0, 1], dtype=int64)>"
      ]
     },
     "execution_count": 47,
     "metadata": {},
     "output_type": "execute_result"
    }
   ],
   "source": [
    "pred"
   ]
  },
  {
   "cell_type": "code",
   "execution_count": 50,
   "id": "f1d6c1b9-22f4-40f5-ba57-1864b9548f44",
   "metadata": {},
   "outputs": [],
   "source": [
    "y = tf.random.uniform([100],dtype=tf.int64,maxval=10)"
   ]
  },
  {
   "cell_type": "code",
   "execution_count": 51,
   "id": "6d537793-af6e-4d04-b9b5-c87a9b9e373a",
   "metadata": {},
   "outputs": [],
   "source": [
    "out = tf.equal(pred,y)"
   ]
  },
  {
   "cell_type": "code",
   "execution_count": 53,
   "id": "45e694cc-d0dd-4423-bd1c-4bc7d6cb36d4",
   "metadata": {},
   "outputs": [],
   "source": [
    "out = tf.cast(out, dtype=tf.float32)"
   ]
  },
  {
   "cell_type": "code",
   "execution_count": 54,
   "id": "a136ea32-b0e2-4c2e-91b7-ae174dc9e40d",
   "metadata": {},
   "outputs": [
    {
     "data": {
      "text/plain": [
       "<tf.Tensor: id=707, shape=(100,), dtype=float32, numpy=\n",
       "array([1., 0., 0., 1., 0., 0., 0., 0., 0., 0., 0., 0., 0., 0., 0., 0., 0.,\n",
       "       0., 0., 0., 0., 0., 0., 0., 1., 0., 0., 1., 1., 0., 0., 0., 0., 0.,\n",
       "       0., 0., 0., 0., 0., 0., 0., 0., 0., 1., 0., 0., 0., 1., 0., 0., 1.,\n",
       "       0., 0., 0., 0., 0., 0., 1., 0., 0., 1., 0., 0., 0., 0., 0., 0., 0.,\n",
       "       0., 0., 0., 0., 0., 0., 0., 0., 0., 0., 0., 0., 0., 0., 0., 0., 0.,\n",
       "       0., 0., 0., 0., 0., 1., 0., 0., 0., 1., 1., 0., 0., 0., 0.],\n",
       "      dtype=float32)>"
      ]
     },
     "execution_count": 54,
     "metadata": {},
     "output_type": "execute_result"
    }
   ],
   "source": [
    "out"
   ]
  },
  {
   "cell_type": "code",
   "execution_count": 55,
   "id": "cf4bfe68-64f5-4a21-9530-04f66523509e",
   "metadata": {},
   "outputs": [],
   "source": [
    "correct = tf.reduce_sum(out)"
   ]
  },
  {
   "cell_type": "code",
   "execution_count": 56,
   "id": "0f88102e-51b8-45a9-89f4-e767ecd540ef",
   "metadata": {},
   "outputs": [
    {
     "data": {
      "text/plain": [
       "<tf.Tensor: id=709, shape=(), dtype=float32, numpy=13.0>"
      ]
     },
     "execution_count": 56,
     "metadata": {},
     "output_type": "execute_result"
    }
   ],
   "source": [
    "correct"
   ]
  },
  {
   "cell_type": "code",
   "execution_count": 58,
   "id": "df98a91b-6517-473c-82be-ed1242cc2449",
   "metadata": {},
   "outputs": [],
   "source": [
    "x = tf.random.normal([2,784])\n",
    "w1 = tf.Variable(tf.random.truncated_normal([784, 256], stddev=0.1))\n",
    "b1 = tf.Variable(tf.zeros([256]))\n",
    "o1 = x@w1 + b1\n",
    "o1 = tf.nn.relu(o1)"
   ]
  },
  {
   "cell_type": "code",
   "execution_count": 59,
   "id": "9bac5bb6-8115-4ec4-92e2-efd94cfc9a09",
   "metadata": {},
   "outputs": [
    {
     "data": {
      "text/plain": [
       "<tf.Tensor: id=768, shape=(2, 256), dtype=float32, numpy=\n",
       "array([[2.1012292 , 0.        , 0.        , 3.6339934 , 3.1398427 ,\n",
       "        0.        , 1.0768751 , 0.        , 0.        , 1.5262821 ,\n",
       "        2.2168741 , 0.7466295 , 0.        , 0.8878835 , 0.        ,\n",
       "        0.0173277 , 1.5438882 , 1.7989303 , 0.        , 0.        ,\n",
       "        0.        , 0.        , 0.11734822, 0.79423875, 1.7862451 ,\n",
       "        0.62229836, 0.        , 0.        , 0.        , 2.1910346 ,\n",
       "        2.331262  , 1.165703  , 0.47701722, 3.6441    , 2.551545  ,\n",
       "        2.04082   , 0.        , 0.        , 0.        , 2.6427732 ,\n",
       "        3.9333763 , 0.        , 2.9958577 , 2.3393424 , 0.        ,\n",
       "        0.        , 5.9005737 , 0.        , 3.614595  , 0.        ,\n",
       "        0.        , 5.7199316 , 0.        , 0.        , 1.8070071 ,\n",
       "        0.52809453, 0.        , 0.        , 0.        , 0.12754688,\n",
       "        0.        , 4.013767  , 0.        , 0.        , 0.        ,\n",
       "        0.        , 0.        , 0.        , 1.0498669 , 0.4433781 ,\n",
       "        0.        , 0.        , 0.69472146, 0.        , 0.        ,\n",
       "        0.        , 5.249901  , 5.3097873 , 1.3561547 , 0.        ,\n",
       "        3.1900442 , 0.        , 0.        , 0.7444147 , 0.        ,\n",
       "        0.6498021 , 0.67499197, 0.        , 0.        , 0.5847679 ,\n",
       "        1.9900762 , 0.        , 0.        , 0.        , 0.        ,\n",
       "        0.        , 1.8890219 , 1.1130688 , 1.1238856 , 4.536395  ,\n",
       "        0.        , 0.        , 0.        , 0.        , 0.        ,\n",
       "        1.1234313 , 0.        , 0.        , 0.        , 0.        ,\n",
       "        0.        , 5.9044514 , 5.1727276 , 4.037847  , 2.300169  ,\n",
       "        0.        , 0.        , 0.        , 0.        , 0.        ,\n",
       "        0.        , 0.0394142 , 1.623561  , 4.3498335 , 0.12549442,\n",
       "        0.        , 0.        , 0.7055913 , 2.771408  , 0.        ,\n",
       "        0.901561  , 0.        , 0.        , 0.        , 3.3882473 ,\n",
       "        2.456375  , 3.6192513 , 0.        , 0.9739834 , 0.        ,\n",
       "        0.        , 0.        , 0.        , 0.        , 1.642526  ,\n",
       "        0.5983809 , 2.3148115 , 0.        , 0.        , 1.6423993 ,\n",
       "        0.        , 0.        , 0.        , 0.        , 0.        ,\n",
       "        2.5264587 , 0.        , 0.        , 0.        , 0.        ,\n",
       "        0.21851295, 0.26446104, 3.9826775 , 0.        , 2.9260972 ,\n",
       "        4.9395623 , 2.8658607 , 2.026198  , 0.        , 0.        ,\n",
       "        0.        , 0.        , 0.26708126, 2.8625276 , 0.        ,\n",
       "        1.3183862 , 1.5615587 , 0.        , 0.        , 0.8614332 ,\n",
       "        0.        , 0.        , 0.        , 2.2265985 , 4.2994747 ,\n",
       "        0.        , 0.        , 0.        , 4.8146286 , 6.379793  ,\n",
       "        0.        , 0.        , 0.        , 0.        , 0.        ,\n",
       "        0.29543138, 2.4170694 , 0.        , 0.        , 0.        ,\n",
       "        0.2353195 , 0.        , 2.2690432 , 0.        , 0.        ,\n",
       "        0.526647  , 0.88897735, 2.8582764 , 2.2479956 , 0.48881906,\n",
       "        3.2236347 , 0.        , 4.906597  , 2.0015595 , 1.6307076 ,\n",
       "        5.303492  , 1.3414096 , 2.391713  , 0.9158211 , 0.        ,\n",
       "        0.        , 4.8955874 , 2.1701584 , 0.        , 5.3720546 ,\n",
       "        1.8454003 , 1.8792748 , 5.8612795 , 0.        , 0.        ,\n",
       "        0.164518  , 0.        , 0.        , 6.0741053 , 0.75609744,\n",
       "        1.3161067 , 0.        , 0.        , 0.582675  , 3.0643117 ,\n",
       "        0.        , 0.        , 0.38370007, 0.        , 1.3296187 ,\n",
       "        2.5298147 , 1.8002679 , 0.        , 2.5200586 , 0.        ,\n",
       "        3.0363982 , 5.9991155 , 0.        , 0.55640805, 0.        ,\n",
       "        1.3618766 ],\n",
       "       [2.7195687 , 0.        , 0.        , 0.62881804, 0.        ,\n",
       "        3.742973  , 0.        , 0.        , 0.        , 1.9727193 ,\n",
       "        2.4676232 , 0.        , 1.4068793 , 0.        , 0.        ,\n",
       "        0.46290207, 0.        , 2.1102116 , 0.        , 0.        ,\n",
       "        0.42074424, 0.        , 1.1230459 , 0.        , 0.        ,\n",
       "        5.097379  , 0.        , 0.        , 0.        , 0.7984754 ,\n",
       "        0.        , 0.8583003 , 0.        , 0.37892166, 0.        ,\n",
       "        1.4822637 , 0.        , 0.        , 0.45982015, 2.3906896 ,\n",
       "        0.        , 2.2896495 , 0.        , 0.        , 1.9677404 ,\n",
       "        3.0545845 , 0.        , 0.07540008, 0.        , 2.2585835 ,\n",
       "        0.21070568, 6.297588  , 0.06368649, 0.        , 1.5883827 ,\n",
       "        1.4482961 , 0.514493  , 1.9565687 , 0.        , 0.        ,\n",
       "        6.18812   , 0.        , 0.        , 0.        , 2.1134555 ,\n",
       "        0.        , 0.        , 0.        , 0.66091067, 2.271011  ,\n",
       "        0.        , 0.        , 4.721897  , 0.        , 0.        ,\n",
       "        0.        , 0.15399575, 0.        , 2.7567081 , 0.        ,\n",
       "        0.        , 0.        , 0.        , 1.121707  , 0.5870957 ,\n",
       "        2.5124364 , 0.09998   , 0.8703053 , 3.1061625 , 0.        ,\n",
       "        0.        , 0.        , 0.        , 0.        , 0.85700595,\n",
       "        0.5742977 , 0.        , 1.0424397 , 0.        , 2.2357135 ,\n",
       "        0.        , 0.        , 4.037183  , 2.5842042 , 0.        ,\n",
       "        0.09670722, 0.        , 0.        , 0.        , 5.1027603 ,\n",
       "        1.2632911 , 1.0999718 , 0.        , 1.2426546 , 1.8912215 ,\n",
       "        0.27811742, 0.        , 0.        , 0.        , 2.1265283 ,\n",
       "        0.19156122, 4.1380935 , 0.        , 3.147651  , 0.        ,\n",
       "        1.1701627 , 0.38717586, 1.1821947 , 0.18816537, 0.        ,\n",
       "        4.150054  , 0.        , 0.        , 0.        , 4.238184  ,\n",
       "        0.        , 0.91936827, 0.        , 5.7042694 , 2.1226075 ,\n",
       "        0.        , 0.        , 0.        , 0.        , 1.8961511 ,\n",
       "        0.        , 2.0715294 , 0.        , 5.876858  , 0.        ,\n",
       "        0.        , 0.        , 0.10128927, 0.        , 0.        ,\n",
       "        2.4217663 , 2.2296462 , 0.20369434, 0.        , 0.        ,\n",
       "        4.0375237 , 0.        , 0.        , 2.167485  , 1.759914  ,\n",
       "        1.4558387 , 0.        , 1.4740794 , 0.        , 2.1250215 ,\n",
       "        0.        , 1.3733895 , 0.42693806, 0.        , 0.        ,\n",
       "        0.72800136, 2.8639746 , 3.5726767 , 2.613935  , 0.03146923,\n",
       "        0.40187097, 1.5143707 , 2.0108209 , 1.2197076 , 2.9086518 ,\n",
       "        0.        , 0.        , 0.52887124, 0.        , 0.        ,\n",
       "        0.        , 0.40839338, 1.552888  , 0.        , 0.        ,\n",
       "        0.        , 0.        , 0.        , 0.        , 0.6308663 ,\n",
       "        2.0566409 , 0.        , 0.        , 3.5423844 , 0.        ,\n",
       "        0.        , 0.        , 5.6376243 , 0.        , 0.        ,\n",
       "        3.6326537 , 2.1105266 , 0.        , 0.8173758 , 0.        ,\n",
       "        0.        , 3.2201426 , 0.        , 0.        , 0.        ,\n",
       "        4.334807  , 0.        , 0.        , 0.        , 0.        ,\n",
       "        0.        , 0.        , 0.03082371, 0.        , 2.4771826 ,\n",
       "        3.7034097 , 0.6163945 , 0.80440855, 0.        , 2.413763  ,\n",
       "        3.7135642 , 0.        , 0.35387027, 2.8746865 , 1.1475661 ,\n",
       "        0.        , 0.        , 0.        , 5.692696  , 2.5502918 ,\n",
       "        0.        , 0.5105736 , 6.211908  , 1.5603528 , 0.        ,\n",
       "        0.        , 0.        , 2.9762433 , 2.7142692 , 5.8185663 ,\n",
       "        0.91648465]], dtype=float32)>"
      ]
     },
     "execution_count": 59,
     "metadata": {},
     "output_type": "execute_result"
    }
   ],
   "source": [
    "o1"
   ]
  },
  {
   "cell_type": "code",
   "execution_count": 60,
   "id": "f2a0a5aa-a8fa-4cc8-9a8e-586dd3282a9f",
   "metadata": {},
   "outputs": [],
   "source": [
    "x = tf.random.normal([4, 28*28])\n",
    "from tensorflow.keras import layers\n",
    "fc = layers.Dense(512, activation='relu')\n",
    "h1 = fc(x)"
   ]
  },
  {
   "cell_type": "code",
   "execution_count": 61,
   "id": "4e6203e0-e015-44a6-9521-d1e0dd9cdc07",
   "metadata": {},
   "outputs": [
    {
     "data": {
      "text/plain": [
       "<tf.Tensor: id=801, shape=(4, 512), dtype=float32, numpy=\n",
       "array([[0.        , 0.        , 0.        , ..., 0.        , 0.61803216,\n",
       "        0.19845057],\n",
       "       [0.        , 0.        , 0.        , ..., 1.2162488 , 0.        ,\n",
       "        0.19774105],\n",
       "       [0.        , 0.77178377, 0.        , ..., 1.133636  , 0.        ,\n",
       "        0.        ],\n",
       "       [0.        , 0.        , 0.08262169, ..., 0.        , 0.        ,\n",
       "        0.        ]], dtype=float32)>"
      ]
     },
     "execution_count": 61,
     "metadata": {},
     "output_type": "execute_result"
    }
   ],
   "source": [
    "h1"
   ]
  },
  {
   "cell_type": "code",
   "execution_count": 62,
   "id": "08de5f49-58cd-4d5b-ba87-3956fbfb2a90",
   "metadata": {},
   "outputs": [
    {
     "data": {
      "text/plain": [
       "<tf.Variable 'dense_31/kernel:0' shape=(784, 512) dtype=float32, numpy=\n",
       "array([[-0.04613876, -0.03658114,  0.03055491, ...,  0.02723278,\n",
       "         0.01911586,  0.06287828],\n",
       "       [ 0.02833981, -0.06085499, -0.04878196, ...,  0.02738103,\n",
       "         0.06662393,  0.01110774],\n",
       "       [ 0.05152619,  0.02149163, -0.05411725, ...,  0.03493044,\n",
       "         0.00054759, -0.06628269],\n",
       "       ...,\n",
       "       [ 0.03762697, -0.05557332, -0.03161683, ..., -0.05594407,\n",
       "        -0.0132715 , -0.03376738],\n",
       "       [-0.02905437,  0.01630945, -0.06444817, ...,  0.05391822,\n",
       "        -0.03543893, -0.02234573],\n",
       "       [ 0.06428534,  0.02309611,  0.01590406, ...,  0.03600752,\n",
       "         0.05643139, -0.05463219]], dtype=float32)>"
      ]
     },
     "execution_count": 62,
     "metadata": {},
     "output_type": "execute_result"
    }
   ],
   "source": [
    "fc.kernel"
   ]
  },
  {
   "cell_type": "code",
   "execution_count": 63,
   "id": "c43f3b45-417e-4cb5-9fb3-9e1814f0779e",
   "metadata": {},
   "outputs": [
    {
     "data": {
      "text/plain": [
       "<tf.Variable 'dense_31/bias:0' shape=(512,) dtype=float32, numpy=\n",
       "array([0., 0., 0., 0., 0., 0., 0., 0., 0., 0., 0., 0., 0., 0., 0., 0., 0.,\n",
       "       0., 0., 0., 0., 0., 0., 0., 0., 0., 0., 0., 0., 0., 0., 0., 0., 0.,\n",
       "       0., 0., 0., 0., 0., 0., 0., 0., 0., 0., 0., 0., 0., 0., 0., 0., 0.,\n",
       "       0., 0., 0., 0., 0., 0., 0., 0., 0., 0., 0., 0., 0., 0., 0., 0., 0.,\n",
       "       0., 0., 0., 0., 0., 0., 0., 0., 0., 0., 0., 0., 0., 0., 0., 0., 0.,\n",
       "       0., 0., 0., 0., 0., 0., 0., 0., 0., 0., 0., 0., 0., 0., 0., 0., 0.,\n",
       "       0., 0., 0., 0., 0., 0., 0., 0., 0., 0., 0., 0., 0., 0., 0., 0., 0.,\n",
       "       0., 0., 0., 0., 0., 0., 0., 0., 0., 0., 0., 0., 0., 0., 0., 0., 0.,\n",
       "       0., 0., 0., 0., 0., 0., 0., 0., 0., 0., 0., 0., 0., 0., 0., 0., 0.,\n",
       "       0., 0., 0., 0., 0., 0., 0., 0., 0., 0., 0., 0., 0., 0., 0., 0., 0.,\n",
       "       0., 0., 0., 0., 0., 0., 0., 0., 0., 0., 0., 0., 0., 0., 0., 0., 0.,\n",
       "       0., 0., 0., 0., 0., 0., 0., 0., 0., 0., 0., 0., 0., 0., 0., 0., 0.,\n",
       "       0., 0., 0., 0., 0., 0., 0., 0., 0., 0., 0., 0., 0., 0., 0., 0., 0.,\n",
       "       0., 0., 0., 0., 0., 0., 0., 0., 0., 0., 0., 0., 0., 0., 0., 0., 0.,\n",
       "       0., 0., 0., 0., 0., 0., 0., 0., 0., 0., 0., 0., 0., 0., 0., 0., 0.,\n",
       "       0., 0., 0., 0., 0., 0., 0., 0., 0., 0., 0., 0., 0., 0., 0., 0., 0.,\n",
       "       0., 0., 0., 0., 0., 0., 0., 0., 0., 0., 0., 0., 0., 0., 0., 0., 0.,\n",
       "       0., 0., 0., 0., 0., 0., 0., 0., 0., 0., 0., 0., 0., 0., 0., 0., 0.,\n",
       "       0., 0., 0., 0., 0., 0., 0., 0., 0., 0., 0., 0., 0., 0., 0., 0., 0.,\n",
       "       0., 0., 0., 0., 0., 0., 0., 0., 0., 0., 0., 0., 0., 0., 0., 0., 0.,\n",
       "       0., 0., 0., 0., 0., 0., 0., 0., 0., 0., 0., 0., 0., 0., 0., 0., 0.,\n",
       "       0., 0., 0., 0., 0., 0., 0., 0., 0., 0., 0., 0., 0., 0., 0., 0., 0.,\n",
       "       0., 0., 0., 0., 0., 0., 0., 0., 0., 0., 0., 0., 0., 0., 0., 0., 0.,\n",
       "       0., 0., 0., 0., 0., 0., 0., 0., 0., 0., 0., 0., 0., 0., 0., 0., 0.,\n",
       "       0., 0., 0., 0., 0., 0., 0., 0., 0., 0., 0., 0., 0., 0., 0., 0., 0.,\n",
       "       0., 0., 0., 0., 0., 0., 0., 0., 0., 0., 0., 0., 0., 0., 0., 0., 0.,\n",
       "       0., 0., 0., 0., 0., 0., 0., 0., 0., 0., 0., 0., 0., 0., 0., 0., 0.,\n",
       "       0., 0., 0., 0., 0., 0., 0., 0., 0., 0., 0., 0., 0., 0., 0., 0., 0.,\n",
       "       0., 0., 0., 0., 0., 0., 0., 0., 0., 0., 0., 0., 0., 0., 0., 0., 0.,\n",
       "       0., 0., 0., 0., 0., 0., 0., 0., 0., 0., 0., 0., 0., 0., 0., 0., 0.,\n",
       "       0., 0.], dtype=float32)>"
      ]
     },
     "execution_count": 63,
     "metadata": {},
     "output_type": "execute_result"
    }
   ],
   "source": [
    "fc.bias"
   ]
  },
  {
   "cell_type": "code",
   "execution_count": 64,
   "id": "cef577c3-988c-44b3-8c12-d642914eadc2",
   "metadata": {},
   "outputs": [
    {
     "data": {
      "text/plain": [
       "[<tf.Variable 'dense_31/kernel:0' shape=(784, 512) dtype=float32, numpy=\n",
       " array([[-0.04613876, -0.03658114,  0.03055491, ...,  0.02723278,\n",
       "          0.01911586,  0.06287828],\n",
       "        [ 0.02833981, -0.06085499, -0.04878196, ...,  0.02738103,\n",
       "          0.06662393,  0.01110774],\n",
       "        [ 0.05152619,  0.02149163, -0.05411725, ...,  0.03493044,\n",
       "          0.00054759, -0.06628269],\n",
       "        ...,\n",
       "        [ 0.03762697, -0.05557332, -0.03161683, ..., -0.05594407,\n",
       "         -0.0132715 , -0.03376738],\n",
       "        [-0.02905437,  0.01630945, -0.06444817, ...,  0.05391822,\n",
       "         -0.03543893, -0.02234573],\n",
       "        [ 0.06428534,  0.02309611,  0.01590406, ...,  0.03600752,\n",
       "          0.05643139, -0.05463219]], dtype=float32)>,\n",
       " <tf.Variable 'dense_31/bias:0' shape=(512,) dtype=float32, numpy=\n",
       " array([0., 0., 0., 0., 0., 0., 0., 0., 0., 0., 0., 0., 0., 0., 0., 0., 0.,\n",
       "        0., 0., 0., 0., 0., 0., 0., 0., 0., 0., 0., 0., 0., 0., 0., 0., 0.,\n",
       "        0., 0., 0., 0., 0., 0., 0., 0., 0., 0., 0., 0., 0., 0., 0., 0., 0.,\n",
       "        0., 0., 0., 0., 0., 0., 0., 0., 0., 0., 0., 0., 0., 0., 0., 0., 0.,\n",
       "        0., 0., 0., 0., 0., 0., 0., 0., 0., 0., 0., 0., 0., 0., 0., 0., 0.,\n",
       "        0., 0., 0., 0., 0., 0., 0., 0., 0., 0., 0., 0., 0., 0., 0., 0., 0.,\n",
       "        0., 0., 0., 0., 0., 0., 0., 0., 0., 0., 0., 0., 0., 0., 0., 0., 0.,\n",
       "        0., 0., 0., 0., 0., 0., 0., 0., 0., 0., 0., 0., 0., 0., 0., 0., 0.,\n",
       "        0., 0., 0., 0., 0., 0., 0., 0., 0., 0., 0., 0., 0., 0., 0., 0., 0.,\n",
       "        0., 0., 0., 0., 0., 0., 0., 0., 0., 0., 0., 0., 0., 0., 0., 0., 0.,\n",
       "        0., 0., 0., 0., 0., 0., 0., 0., 0., 0., 0., 0., 0., 0., 0., 0., 0.,\n",
       "        0., 0., 0., 0., 0., 0., 0., 0., 0., 0., 0., 0., 0., 0., 0., 0., 0.,\n",
       "        0., 0., 0., 0., 0., 0., 0., 0., 0., 0., 0., 0., 0., 0., 0., 0., 0.,\n",
       "        0., 0., 0., 0., 0., 0., 0., 0., 0., 0., 0., 0., 0., 0., 0., 0., 0.,\n",
       "        0., 0., 0., 0., 0., 0., 0., 0., 0., 0., 0., 0., 0., 0., 0., 0., 0.,\n",
       "        0., 0., 0., 0., 0., 0., 0., 0., 0., 0., 0., 0., 0., 0., 0., 0., 0.,\n",
       "        0., 0., 0., 0., 0., 0., 0., 0., 0., 0., 0., 0., 0., 0., 0., 0., 0.,\n",
       "        0., 0., 0., 0., 0., 0., 0., 0., 0., 0., 0., 0., 0., 0., 0., 0., 0.,\n",
       "        0., 0., 0., 0., 0., 0., 0., 0., 0., 0., 0., 0., 0., 0., 0., 0., 0.,\n",
       "        0., 0., 0., 0., 0., 0., 0., 0., 0., 0., 0., 0., 0., 0., 0., 0., 0.,\n",
       "        0., 0., 0., 0., 0., 0., 0., 0., 0., 0., 0., 0., 0., 0., 0., 0., 0.,\n",
       "        0., 0., 0., 0., 0., 0., 0., 0., 0., 0., 0., 0., 0., 0., 0., 0., 0.,\n",
       "        0., 0., 0., 0., 0., 0., 0., 0., 0., 0., 0., 0., 0., 0., 0., 0., 0.,\n",
       "        0., 0., 0., 0., 0., 0., 0., 0., 0., 0., 0., 0., 0., 0., 0., 0., 0.,\n",
       "        0., 0., 0., 0., 0., 0., 0., 0., 0., 0., 0., 0., 0., 0., 0., 0., 0.,\n",
       "        0., 0., 0., 0., 0., 0., 0., 0., 0., 0., 0., 0., 0., 0., 0., 0., 0.,\n",
       "        0., 0., 0., 0., 0., 0., 0., 0., 0., 0., 0., 0., 0., 0., 0., 0., 0.,\n",
       "        0., 0., 0., 0., 0., 0., 0., 0., 0., 0., 0., 0., 0., 0., 0., 0., 0.,\n",
       "        0., 0., 0., 0., 0., 0., 0., 0., 0., 0., 0., 0., 0., 0., 0., 0., 0.,\n",
       "        0., 0., 0., 0., 0., 0., 0., 0., 0., 0., 0., 0., 0., 0., 0., 0., 0.,\n",
       "        0., 0.], dtype=float32)>]"
      ]
     },
     "execution_count": 64,
     "metadata": {},
     "output_type": "execute_result"
    }
   ],
   "source": [
    "fc.trainable_variables"
   ]
  },
  {
   "cell_type": "code",
   "execution_count": 68,
   "id": "fb5f48d1-330e-4d88-83c7-afd703f205ba",
   "metadata": {},
   "outputs": [
    {
     "ename": "NameError",
     "evalue": "name 'input_shape' is not defined",
     "output_type": "error",
     "traceback": [
      "\u001b[1;31m---------------------------------------------------------------------------\u001b[0m",
      "\u001b[1;31mNameError\u001b[0m                                 Traceback (most recent call last)",
      "\u001b[1;32m~\\AppData\\Local\\Temp\\ipykernel_19916\\2368354305.py\u001b[0m in \u001b[0;36m<module>\u001b[1;34m\u001b[0m\n\u001b[0;32m      6\u001b[0m     \u001b[0mlayers\u001b[0m\u001b[1;33m.\u001b[0m\u001b[0mDense\u001b[0m\u001b[1;33m(\u001b[0m\u001b[1;36m10\u001b[0m\u001b[1;33m)\u001b[0m\u001b[1;33m,\u001b[0m\u001b[1;33m\u001b[0m\u001b[0m\n\u001b[0;32m      7\u001b[0m ])\n\u001b[1;32m----> 8\u001b[1;33m \u001b[0mfc\u001b[0m\u001b[1;33m.\u001b[0m\u001b[0mbuild\u001b[0m\u001b[1;33m(\u001b[0m\u001b[0minput_shape\u001b[0m\u001b[1;33m-\u001b[0m\u001b[1;33m[\u001b[0m\u001b[1;36m4\u001b[0m\u001b[1;33m,\u001b[0m\u001b[1;36m786\u001b[0m\u001b[1;33m]\u001b[0m\u001b[1;33m)\u001b[0m\u001b[1;33m\u001b[0m\u001b[0m\n\u001b[0m",
      "\u001b[1;31mNameError\u001b[0m: name 'input_shape' is not defined"
     ]
    }
   ],
   "source": [
    "from tensorflow.keras import layers, Sequential\n",
    "model = Sequential([\n",
    "    layers.Dense(256, activation = 'relu'),\n",
    "    layers.Dense(128, activation = 'relu'),\n",
    "    layers.Dense(64, activation = 'relu'),\n",
    "    layers.Dense(10),\n",
    "])\n",
    "fc.build(input_shape-[4,786])"
   ]
  },
  {
   "cell_type": "code",
   "execution_count": 67,
   "id": "3a5104fc-a948-4911-ab89-cde6bf575fcf",
   "metadata": {},
   "outputs": [
    {
     "data": {
      "text/plain": [
       "<tf.Tensor: id=912, shape=(4, 10), dtype=float32, numpy=\n",
       "array([[-0.12974942,  0.00945759, -0.05509951,  0.00383796,  0.3063334 ,\n",
       "        -0.12816918, -0.08257294, -0.03380569, -0.12840597, -1.0007566 ],\n",
       "       [-0.15972702, -0.9648161 ,  0.28626487,  0.42420834,  0.79234004,\n",
       "         0.3669795 , -1.1633468 , -0.01611494,  0.62378407, -1.4487368 ],\n",
       "       [ 0.38760313, -1.8632383 , -0.30450723, -0.17366189, -0.46475452,\n",
       "        -0.14242151, -0.8257265 , -0.7188118 ,  1.084628  , -0.60472167],\n",
       "       [ 0.92914814, -1.0475566 , -0.39288878,  0.21760458,  0.22669469,\n",
       "         0.23022492, -0.73383266, -0.98935956,  0.26510087, -0.7715271 ]],\n",
       "      dtype=float32)>"
      ]
     },
     "execution_count": 67,
     "metadata": {},
     "output_type": "execute_result"
    }
   ],
   "source": [
    "out"
   ]
  },
  {
   "cell_type": "code",
   "execution_count": 69,
   "id": "0ca74dcb-1a85-46dd-a8f0-6fce083d0cd8",
   "metadata": {},
   "outputs": [
    {
     "data": {
      "text/plain": [
       "<tf.Tensor: id=958, shape=(), dtype=float32, numpy=2.5500374>"
      ]
     },
     "execution_count": 69,
     "metadata": {},
     "output_type": "execute_result"
    }
   ],
   "source": [
    "z = tf.random.normal([2,10])\n",
    "y_onehot = tf.constant([1,3])\n",
    "y_onehot = tf.one_hot(y_onehot, depth=10)\n",
    "loss = keras.losses.categorical_crossentropy(y_onehot, z, from_logits=True)\n",
    "loss = tf.reduce_mean(loss)\n",
    "loss"
   ]
  },
  {
   "cell_type": "code",
   "execution_count": 77,
   "id": "bf4e1b46-b18b-4192-b03f-d9d2f8a56ce3",
   "metadata": {},
   "outputs": [
    {
     "data": {
      "text/plain": [
       "<tf.Tensor: id=984, shape=(2, 10), dtype=float32, numpy=\n",
       "array([[-1.4119027 ,  0.47670445,  0.44879657,  0.71694666,  1.2092521 ,\n",
       "        -0.18646689, -0.28859103, -1.1385318 , -1.1128391 , -2.245002  ],\n",
       "       [-0.51250553,  0.42544505,  1.6489989 ,  1.4184752 ,  0.4101    ,\n",
       "        -0.42770606, -1.048565  , -0.88909405,  0.2273133 ,  0.92523646]],\n",
       "      dtype=float32)>"
      ]
     },
     "execution_count": 77,
     "metadata": {},
     "output_type": "execute_result"
    }
   ],
   "source": [
    "o = tf.random.normal([2, 10])\n",
    "y = tf.constant([1,3])\n",
    "o"
   ]
  },
  {
   "cell_type": "code",
   "execution_count": 78,
   "id": "4e0d6841-635b-4c91-8318-4ee8ac78826e",
   "metadata": {},
   "outputs": [
    {
     "data": {
      "text/plain": [
       "<tf.Tensor: id=985, shape=(2,), dtype=int32, numpy=array([1, 3])>"
      ]
     },
     "execution_count": 78,
     "metadata": {},
     "output_type": "execute_result"
    }
   ],
   "source": [
    "y"
   ]
  },
  {
   "cell_type": "code",
   "execution_count": 80,
   "id": "3225ce61-7a83-4599-a04a-c0217a3bec81",
   "metadata": {},
   "outputs": [
    {
     "data": {
      "text/plain": [
       "<tf.Tensor: id=993, shape=(2, 10), dtype=float32, numpy=\n",
       "array([[0., 1., 0., 0., 0., 0., 0., 0., 0., 0.],\n",
       "       [0., 0., 0., 1., 0., 0., 0., 0., 0., 0.]], dtype=float32)>"
      ]
     },
     "execution_count": 80,
     "metadata": {},
     "output_type": "execute_result"
    }
   ],
   "source": [
    "y_onehot = tf.one_hot(y, depth=10)\n",
    "y_onehot\n"
   ]
  },
  {
   "cell_type": "code",
   "execution_count": 81,
   "id": "d8a81af6-1050-4cfa-9bcd-23f7a4c699ba",
   "metadata": {},
   "outputs": [
    {
     "data": {
      "text/plain": [
       "<tf.Tensor: id=996, shape=(2,), dtype=float32, numpy=array([1.2137783, 0.648681 ], dtype=float32)>"
      ]
     },
     "execution_count": 81,
     "metadata": {},
     "output_type": "execute_result"
    }
   ],
   "source": [
    "loss = keras.losses.mse(y_onehot, o)\n",
    "loss"
   ]
  },
  {
   "cell_type": "code",
   "execution_count": 82,
   "id": "59770708-ad2a-4533-bc1b-bd7c0c1fbe95",
   "metadata": {},
   "outputs": [],
   "source": [
    "loss = tf.reduce_mean(loss)"
   ]
  },
  {
   "cell_type": "code",
   "execution_count": 83,
   "id": "247f727b-bce5-4c9d-85e9-42f64a006981",
   "metadata": {},
   "outputs": [
    {
     "data": {
      "text/plain": [
       "<tf.Tensor: id=998, shape=(), dtype=float32, numpy=0.9312296>"
      ]
     },
     "execution_count": 83,
     "metadata": {},
     "output_type": "execute_result"
    }
   ],
   "source": [
    "loss"
   ]
  },
  {
   "cell_type": "code",
   "execution_count": 85,
   "id": "f5ac20e9-a10c-41f6-b5dd-b11e87138c04",
   "metadata": {},
   "outputs": [
    {
     "data": {
      "text/plain": [
       "<tf.Tensor: id=1018, shape=(), dtype=float32, numpy=0.9312296>"
      ]
     },
     "execution_count": 85,
     "metadata": {},
     "output_type": "execute_result"
    }
   ],
   "source": [
    "criteon = keras.losses.MeanSquaredError()\n",
    "loss = criteon(y_onehot, o)\n",
    "loss"
   ]
  },
  {
   "cell_type": "code",
   "execution_count": null,
   "id": "ab4c959c-2211-41cb-a5b8-6abd539c0f76",
   "metadata": {},
   "outputs": [],
   "source": []
  }
 ],
 "metadata": {
  "kernelspec": {
   "display_name": "Python 3 (ipykernel)",
   "language": "python",
   "name": "python3"
  },
  "language_info": {
   "codemirror_mode": {
    "name": "ipython",
    "version": 3
   },
   "file_extension": ".py",
   "mimetype": "text/x-python",
   "name": "python",
   "nbconvert_exporter": "python",
   "pygments_lexer": "ipython3",
   "version": "3.10.4"
  }
 },
 "nbformat": 4,
 "nbformat_minor": 5
}
